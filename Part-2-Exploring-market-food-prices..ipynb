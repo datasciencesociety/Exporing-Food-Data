{
 "cells": [
  {
   "cell_type": "markdown",
   "metadata": {},
   "source": [
    "### Abstract\n",
    "We would like to see if there is any connection between the products (names) and price, as well as existing patterns. This is set a-priori. When we do the exploration further question will arise. Some of the data will be removed as it will not be used. There will be plots, groupings and hypothesis testing via ANOVA to find potential connections. In this notebook we will explore the nature of the products, the last one went from the countries to their creator."
   ]
  },
  {
   "cell_type": "code",
   "execution_count": 17,
   "metadata": {
    "collapsed": true
   },
   "outputs": [],
   "source": [
    "%matplotlib inline"
   ]
  },
  {
   "cell_type": "code",
   "execution_count": 124,
   "metadata": {
    "collapsed": true
   },
   "outputs": [],
   "source": [
    "import numpy as np\n",
    "import pandas as pd\n",
    "import matplotlib.pyplot as plt\n",
    "from scipy import stats\n",
    "from scipy.stats import mstats"
   ]
  },
  {
   "cell_type": "markdown",
   "metadata": {},
   "source": [
    "# Author\n",
    "## Stefan Panev"
   ]
  },
  {
   "cell_type": "markdown",
   "metadata": {},
   "source": [
    "### Introduction\n",
    "For the second dataset we will choose the wfp_market_food_prices from here: https://www.kaggle.com/jboysen/global-food-prices#wfp_market_food_prices.csv. The file is saved in the data folder."
   ]
  },
  {
   "cell_type": "markdown",
   "metadata": {},
   "source": [
    "## Table of Contents:\n",
    "* [Introduction](#first-bullet)\n",
    "* [Reading the Data and Preprocessing](#second-bullet)\n",
    "* [EDA - grouping and plotting](#fourth-bullet)\n",
    "* [Hypothesis testing via Z test](#fifth-bullet)\n",
    "* [Conclusion](#sixth-bullet)\n",
    "* [Further Development](#seventh-bullet)"
   ]
  },
  {
   "cell_type": "markdown",
   "metadata": {},
   "source": [
    "### Reading the Data and Preprocessing"
   ]
  },
  {
   "cell_type": "code",
   "execution_count": 19,
   "metadata": {
    "collapsed": true
   },
   "outputs": [],
   "source": [
    "food_price_data = pd.read_csv('data\\wfp_market_food_prices.csv', sep = ',', encoding='iso-8859-1')"
   ]
  },
  {
   "cell_type": "markdown",
   "metadata": {},
   "source": [
    "The data is read and stored as food_price_data, the separator is a  ','  , there is an UTF8 encoding that has successfully been fixed with iso-8859-1 encoding. We are having 743914 rows and 18 columns at the beginning."
   ]
  },
  {
   "cell_type": "code",
   "execution_count": 20,
   "metadata": {},
   "outputs": [
    {
     "data": {
      "text/html": [
       "<div>\n",
       "<style>\n",
       "    .dataframe thead tr:only-child th {\n",
       "        text-align: right;\n",
       "    }\n",
       "\n",
       "    .dataframe thead th {\n",
       "        text-align: left;\n",
       "    }\n",
       "\n",
       "    .dataframe tbody tr th {\n",
       "        vertical-align: top;\n",
       "    }\n",
       "</style>\n",
       "<table border=\"1\" class=\"dataframe\">\n",
       "  <thead>\n",
       "    <tr style=\"text-align: right;\">\n",
       "      <th></th>\n",
       "      <th>adm0_id</th>\n",
       "      <th>adm0_name</th>\n",
       "      <th>adm1_id</th>\n",
       "      <th>adm1_name</th>\n",
       "      <th>mkt_id</th>\n",
       "      <th>mkt_name</th>\n",
       "      <th>cm_id</th>\n",
       "      <th>cm_name</th>\n",
       "      <th>cur_id</th>\n",
       "      <th>cur_name</th>\n",
       "      <th>pt_id</th>\n",
       "      <th>pt_name</th>\n",
       "      <th>um_id</th>\n",
       "      <th>um_name</th>\n",
       "      <th>mp_month</th>\n",
       "      <th>mp_year</th>\n",
       "      <th>mp_price</th>\n",
       "      <th>mp_commoditysource</th>\n",
       "    </tr>\n",
       "  </thead>\n",
       "  <tbody>\n",
       "    <tr>\n",
       "      <th>0</th>\n",
       "      <td>1</td>\n",
       "      <td>Afghanistan</td>\n",
       "      <td>272</td>\n",
       "      <td>Badakhshan</td>\n",
       "      <td>266</td>\n",
       "      <td>Fayzabad</td>\n",
       "      <td>55</td>\n",
       "      <td>Bread</td>\n",
       "      <td>87</td>\n",
       "      <td>AFN</td>\n",
       "      <td>15</td>\n",
       "      <td>Retail</td>\n",
       "      <td>5</td>\n",
       "      <td>KG</td>\n",
       "      <td>1</td>\n",
       "      <td>2014</td>\n",
       "      <td>50.0</td>\n",
       "      <td>WFP</td>\n",
       "    </tr>\n",
       "    <tr>\n",
       "      <th>1</th>\n",
       "      <td>1</td>\n",
       "      <td>Afghanistan</td>\n",
       "      <td>272</td>\n",
       "      <td>Badakhshan</td>\n",
       "      <td>266</td>\n",
       "      <td>Fayzabad</td>\n",
       "      <td>55</td>\n",
       "      <td>Bread</td>\n",
       "      <td>87</td>\n",
       "      <td>AFN</td>\n",
       "      <td>15</td>\n",
       "      <td>Retail</td>\n",
       "      <td>5</td>\n",
       "      <td>KG</td>\n",
       "      <td>2</td>\n",
       "      <td>2014</td>\n",
       "      <td>50.0</td>\n",
       "      <td>WFP</td>\n",
       "    </tr>\n",
       "    <tr>\n",
       "      <th>2</th>\n",
       "      <td>1</td>\n",
       "      <td>Afghanistan</td>\n",
       "      <td>272</td>\n",
       "      <td>Badakhshan</td>\n",
       "      <td>266</td>\n",
       "      <td>Fayzabad</td>\n",
       "      <td>55</td>\n",
       "      <td>Bread</td>\n",
       "      <td>87</td>\n",
       "      <td>AFN</td>\n",
       "      <td>15</td>\n",
       "      <td>Retail</td>\n",
       "      <td>5</td>\n",
       "      <td>KG</td>\n",
       "      <td>3</td>\n",
       "      <td>2014</td>\n",
       "      <td>50.0</td>\n",
       "      <td>WFP</td>\n",
       "    </tr>\n",
       "    <tr>\n",
       "      <th>3</th>\n",
       "      <td>1</td>\n",
       "      <td>Afghanistan</td>\n",
       "      <td>272</td>\n",
       "      <td>Badakhshan</td>\n",
       "      <td>266</td>\n",
       "      <td>Fayzabad</td>\n",
       "      <td>55</td>\n",
       "      <td>Bread</td>\n",
       "      <td>87</td>\n",
       "      <td>AFN</td>\n",
       "      <td>15</td>\n",
       "      <td>Retail</td>\n",
       "      <td>5</td>\n",
       "      <td>KG</td>\n",
       "      <td>4</td>\n",
       "      <td>2014</td>\n",
       "      <td>50.0</td>\n",
       "      <td>WFP</td>\n",
       "    </tr>\n",
       "    <tr>\n",
       "      <th>4</th>\n",
       "      <td>1</td>\n",
       "      <td>Afghanistan</td>\n",
       "      <td>272</td>\n",
       "      <td>Badakhshan</td>\n",
       "      <td>266</td>\n",
       "      <td>Fayzabad</td>\n",
       "      <td>55</td>\n",
       "      <td>Bread</td>\n",
       "      <td>87</td>\n",
       "      <td>AFN</td>\n",
       "      <td>15</td>\n",
       "      <td>Retail</td>\n",
       "      <td>5</td>\n",
       "      <td>KG</td>\n",
       "      <td>5</td>\n",
       "      <td>2014</td>\n",
       "      <td>50.0</td>\n",
       "      <td>WFP</td>\n",
       "    </tr>\n",
       "  </tbody>\n",
       "</table>\n",
       "</div>"
      ],
      "text/plain": [
       "   adm0_id    adm0_name  adm1_id   adm1_name  mkt_id  mkt_name  cm_id cm_name  \\\n",
       "0        1  Afghanistan      272  Badakhshan     266  Fayzabad     55   Bread   \n",
       "1        1  Afghanistan      272  Badakhshan     266  Fayzabad     55   Bread   \n",
       "2        1  Afghanistan      272  Badakhshan     266  Fayzabad     55   Bread   \n",
       "3        1  Afghanistan      272  Badakhshan     266  Fayzabad     55   Bread   \n",
       "4        1  Afghanistan      272  Badakhshan     266  Fayzabad     55   Bread   \n",
       "\n",
       "   cur_id cur_name  pt_id pt_name  um_id um_name  mp_month  mp_year  mp_price  \\\n",
       "0      87      AFN     15  Retail      5      KG         1     2014      50.0   \n",
       "1      87      AFN     15  Retail      5      KG         2     2014      50.0   \n",
       "2      87      AFN     15  Retail      5      KG         3     2014      50.0   \n",
       "3      87      AFN     15  Retail      5      KG         4     2014      50.0   \n",
       "4      87      AFN     15  Retail      5      KG         5     2014      50.0   \n",
       "\n",
       "  mp_commoditysource  \n",
       "0                WFP  \n",
       "1                WFP  \n",
       "2                WFP  \n",
       "3                WFP  \n",
       "4                WFP  "
      ]
     },
     "execution_count": 20,
     "metadata": {},
     "output_type": "execute_result"
    }
   ],
   "source": [
    "food_price_data.head()"
   ]
  },
  {
   "cell_type": "code",
   "execution_count": 21,
   "metadata": {},
   "outputs": [
    {
     "data": {
      "text/plain": [
       "(743914, 18)"
      ]
     },
     "execution_count": 21,
     "metadata": {},
     "output_type": "execute_result"
    }
   ],
   "source": [
    "food_price_data.shape"
   ]
  },
  {
   "cell_type": "code",
   "execution_count": 22,
   "metadata": {},
   "outputs": [
    {
     "data": {
      "text/plain": [
       "Index(['adm0_id', 'adm0_name', 'adm1_id', 'adm1_name', 'mkt_id', 'mkt_name',\n",
       "       'cm_id', 'cm_name', 'cur_id', 'cur_name', 'pt_id', 'pt_name', 'um_id',\n",
       "       'um_name', 'mp_month', 'mp_year', 'mp_price', 'mp_commoditysource'],\n",
       "      dtype='object')"
      ]
     },
     "execution_count": 22,
     "metadata": {},
     "output_type": "execute_result"
    }
   ],
   "source": [
    "food_price_data.columns"
   ]
  },
  {
   "cell_type": "markdown",
   "metadata": {},
   "source": [
    "Most of ids tell us little information so they will be removed. We are left with 11 columns."
   ]
  },
  {
   "cell_type": "code",
   "execution_count": 23,
   "metadata": {
    "collapsed": true
   },
   "outputs": [],
   "source": [
    "food_price_data = food_price_data.drop(['adm0_id', 'adm1_id', 'cm_id', 'mkt_id', 'cur_id', 'pt_id', 'um_id'] , axis = 1 )"
   ]
  },
  {
   "cell_type": "code",
   "execution_count": 24,
   "metadata": {},
   "outputs": [
    {
     "data": {
      "text/plain": [
       "(743914, 11)"
      ]
     },
     "execution_count": 24,
     "metadata": {},
     "output_type": "execute_result"
    }
   ],
   "source": [
    "food_price_data.shape"
   ]
  },
  {
   "cell_type": "code",
   "execution_count": 25,
   "metadata": {},
   "outputs": [
    {
     "data": {
      "text/html": [
       "<div>\n",
       "<style>\n",
       "    .dataframe thead tr:only-child th {\n",
       "        text-align: right;\n",
       "    }\n",
       "\n",
       "    .dataframe thead th {\n",
       "        text-align: left;\n",
       "    }\n",
       "\n",
       "    .dataframe tbody tr th {\n",
       "        vertical-align: top;\n",
       "    }\n",
       "</style>\n",
       "<table border=\"1\" class=\"dataframe\">\n",
       "  <thead>\n",
       "    <tr style=\"text-align: right;\">\n",
       "      <th></th>\n",
       "      <th>adm0_name</th>\n",
       "      <th>adm1_name</th>\n",
       "      <th>mkt_name</th>\n",
       "      <th>cm_name</th>\n",
       "      <th>cur_name</th>\n",
       "      <th>pt_name</th>\n",
       "      <th>um_name</th>\n",
       "      <th>mp_month</th>\n",
       "      <th>mp_year</th>\n",
       "      <th>mp_price</th>\n",
       "      <th>mp_commoditysource</th>\n",
       "    </tr>\n",
       "  </thead>\n",
       "  <tbody>\n",
       "    <tr>\n",
       "      <th>0</th>\n",
       "      <td>Afghanistan</td>\n",
       "      <td>Badakhshan</td>\n",
       "      <td>Fayzabad</td>\n",
       "      <td>Bread</td>\n",
       "      <td>AFN</td>\n",
       "      <td>Retail</td>\n",
       "      <td>KG</td>\n",
       "      <td>1</td>\n",
       "      <td>2014</td>\n",
       "      <td>50.0</td>\n",
       "      <td>WFP</td>\n",
       "    </tr>\n",
       "    <tr>\n",
       "      <th>1</th>\n",
       "      <td>Afghanistan</td>\n",
       "      <td>Badakhshan</td>\n",
       "      <td>Fayzabad</td>\n",
       "      <td>Bread</td>\n",
       "      <td>AFN</td>\n",
       "      <td>Retail</td>\n",
       "      <td>KG</td>\n",
       "      <td>2</td>\n",
       "      <td>2014</td>\n",
       "      <td>50.0</td>\n",
       "      <td>WFP</td>\n",
       "    </tr>\n",
       "    <tr>\n",
       "      <th>2</th>\n",
       "      <td>Afghanistan</td>\n",
       "      <td>Badakhshan</td>\n",
       "      <td>Fayzabad</td>\n",
       "      <td>Bread</td>\n",
       "      <td>AFN</td>\n",
       "      <td>Retail</td>\n",
       "      <td>KG</td>\n",
       "      <td>3</td>\n",
       "      <td>2014</td>\n",
       "      <td>50.0</td>\n",
       "      <td>WFP</td>\n",
       "    </tr>\n",
       "    <tr>\n",
       "      <th>3</th>\n",
       "      <td>Afghanistan</td>\n",
       "      <td>Badakhshan</td>\n",
       "      <td>Fayzabad</td>\n",
       "      <td>Bread</td>\n",
       "      <td>AFN</td>\n",
       "      <td>Retail</td>\n",
       "      <td>KG</td>\n",
       "      <td>4</td>\n",
       "      <td>2014</td>\n",
       "      <td>50.0</td>\n",
       "      <td>WFP</td>\n",
       "    </tr>\n",
       "    <tr>\n",
       "      <th>4</th>\n",
       "      <td>Afghanistan</td>\n",
       "      <td>Badakhshan</td>\n",
       "      <td>Fayzabad</td>\n",
       "      <td>Bread</td>\n",
       "      <td>AFN</td>\n",
       "      <td>Retail</td>\n",
       "      <td>KG</td>\n",
       "      <td>5</td>\n",
       "      <td>2014</td>\n",
       "      <td>50.0</td>\n",
       "      <td>WFP</td>\n",
       "    </tr>\n",
       "  </tbody>\n",
       "</table>\n",
       "</div>"
      ],
      "text/plain": [
       "     adm0_name   adm1_name  mkt_name cm_name cur_name pt_name um_name  \\\n",
       "0  Afghanistan  Badakhshan  Fayzabad   Bread      AFN  Retail      KG   \n",
       "1  Afghanistan  Badakhshan  Fayzabad   Bread      AFN  Retail      KG   \n",
       "2  Afghanistan  Badakhshan  Fayzabad   Bread      AFN  Retail      KG   \n",
       "3  Afghanistan  Badakhshan  Fayzabad   Bread      AFN  Retail      KG   \n",
       "4  Afghanistan  Badakhshan  Fayzabad   Bread      AFN  Retail      KG   \n",
       "\n",
       "   mp_month  mp_year  mp_price mp_commoditysource  \n",
       "0         1     2014      50.0                WFP  \n",
       "1         2     2014      50.0                WFP  \n",
       "2         3     2014      50.0                WFP  \n",
       "3         4     2014      50.0                WFP  \n",
       "4         5     2014      50.0                WFP  "
      ]
     },
     "execution_count": 25,
     "metadata": {},
     "output_type": "execute_result"
    }
   ],
   "source": [
    "food_price_data.head()"
   ]
  },
  {
   "cell_type": "markdown",
   "metadata": {},
   "source": [
    "### EDA - grouping and plotting"
   ]
  },
  {
   "cell_type": "code",
   "execution_count": 29,
   "metadata": {
    "collapsed": true
   },
   "outputs": [],
   "source": [
    "products = food_price_data.groupby(['cm_name'], axis=0)['mp_price'].mean()"
   ]
  },
  {
   "cell_type": "code",
   "execution_count": 34,
   "metadata": {},
   "outputs": [
    {
     "data": {
      "text/plain": [
       "cm_name\n",
       "Apples                                             106.001701\n",
       "Apples (red)                                      1425.104470\n",
       "Avocados                                           209.374762\n",
       "Bananas                                            210.652722\n",
       "Bananas (medium size)                                5.596964\n",
       "Beans                                            35930.450876\n",
       "Beans (black)                                      364.444558\n",
       "Beans (butter)                                      71.097794\n",
       "Beans (catarino)                                    72.322850\n",
       "Beans (dry)                                        418.211878\n",
       "Beans (fava, dry)                                   13.133533\n",
       "Beans (green, fresh)                               467.466260\n",
       "Beans (haricot)                                      8.607755\n",
       "Beans (kidney red)                                 434.279540\n",
       "Beans (kidney white)                                51.792416\n",
       "Beans (kidney)                                       3.065130\n",
       "Beans (magnum)                                      71.964810\n",
       "Beans (mung)                                        75.452179\n",
       "Beans (niebe)                                     2296.531770\n",
       "Beans (niebe, white)                              8898.305085\n",
       "Beans (red)                                        733.763038\n",
       "Beans (red, fresh)                                2045.286885\n",
       "Beans (silk red)                                    59.308950\n",
       "Beans (string)                                    1721.960000\n",
       "Beans (sugar)                                       22.982903\n",
       "Beans (sugar-red)                                    9.534655\n",
       "Beans (white)                                     1579.556356\n",
       "Beans(mash)                                        203.113371\n",
       "Beetroots                                            5.622410\n",
       "Blackberry                                        2458.680000\n",
       "                                                     ...     \n",
       "Sugar (brown, local)                                32.419809\n",
       "Sugar (jaggery/gur)                                 42.288625\n",
       "Sugar (white)                                      221.785206\n",
       "Sweet potatoes                                     115.756188\n",
       "Tamarillos/tree tomatoes                          1572.700000\n",
       "Tea                                               1643.685634\n",
       "Tea (black)                                        147.713260\n",
       "Tea (green)                                         38.743100\n",
       "Tea (sahm)                                         149.687500\n",
       "Tomatoes                                           256.326868\n",
       "Tomatoes (greenhouse)                                3.667646\n",
       "Tomatoes (paste)                                  2120.817106\n",
       "Tortilla (maize)                                     4.132389\n",
       "Transport (public)                                 681.439704\n",
       "Wage (non-qualified labour)                       8565.931882\n",
       "Wage (non-qualified labour, non-agricultural)    26907.457486\n",
       "Wage (qualified labour)                           1984.690185\n",
       "Water (drinking)                                     3.426732\n",
       "Wheat                                              151.581749\n",
       "Wheat flour                                        685.088476\n",
       "Wheat flour (first grade)                           13.121940\n",
       "Wheat flour (high quality)                           5.964929\n",
       "Wheat flour (imported)                              92.782934\n",
       "Wheat flour (local)                                 26.893728\n",
       "Wheat flour (locally processed)                     12.180345\n",
       "Yam                                               4756.290341\n",
       "Yam (Abuja)                                      11794.671429\n",
       "Yam (florido)                                      152.297532\n",
       "Yogurt                                             226.100620\n",
       "Zucchini                                           273.379846\n",
       "Name: mp_price, Length: 321, dtype: float64"
      ]
     },
     "execution_count": 34,
     "metadata": {},
     "output_type": "execute_result"
    }
   ],
   "source": [
    "products"
   ]
  },
  {
   "cell_type": "markdown",
   "metadata": {},
   "source": [
    "Lets start the EDA by grouping the product names by price. We see that there are 321 products, a lot of the product have several types. Sorting the values by price shows that the livestock (sheep, one-year-old alive female) have the highest price tag significantly higher then the rest. Exploring further we see that mostly meat products, rice and fish occupy the top 20 spots. Some studies show that a significant part of the biosphere biomass is made by livestock animals. This could potentially be an evidence for this study, for further reading read the abstract here:\n",
    "http://www.pnas.org/content/early/2018/05/15/1711842115"
   ]
  },
  {
   "cell_type": "code",
   "execution_count": 38,
   "metadata": {},
   "outputs": [
    {
     "data": {
      "text/plain": [
       "cm_name\n",
       "Livestock (sheep, one-year-old alive female)      1.786756e+06\n",
       "Rice (white)                                      9.213260e+05\n",
       "Livestock (cattle)                                1.762069e+05\n",
       "Rice (paddy)                                      1.378682e+05\n",
       "Livestock (sheep, two-year-old male)              6.701173e+04\n",
       "Meat (beef, first quality)                        6.384423e+04\n",
       "Meat (buffalo, first quality)                     6.341970e+04\n",
       "Meat (beef, second quality)                       5.583045e+04\n",
       "Meat (buffalo, second quality)                    5.490517e+04\n",
       "Livestock (pig)                                   4.648268e+04\n",
       "Fish (snake head)                                 4.546479e+04\n",
       "Meat (pork, first quality)                        3.780716e+04\n",
       "Beans                                             3.593045e+04\n",
       "Meat (pork, second quality)                       3.390452e+04\n",
       "Meat (chicken, broiler)                           3.161585e+04\n",
       "Chili (green)                                     2.887728e+04\n",
       "Wage (non-qualified labour, non-agricultural)     2.690746e+04\n",
       "Livestock (sheep, medium-sized castrated male)    2.643287e+04\n",
       "Fish (tilapia, farmed)                            2.459370e+04\n",
       "Fish                                              2.450000e+04\n",
       "Name: mp_price, dtype: float64"
      ]
     },
     "execution_count": 38,
     "metadata": {},
     "output_type": "execute_result"
    }
   ],
   "source": [
    "products.sort_values(ascending=False).head(20)"
   ]
  },
  {
   "cell_type": "code",
   "execution_count": 37,
   "metadata": {},
   "outputs": [
    {
     "data": {
      "text/plain": [
       "cm_name\n",
       "Eggs (imported)                  1.790909\n",
       "Maize meal (white, roller)       2.156225\n",
       "Maize meal (white, breakfast)    2.923677\n",
       "Onions (dry, local)              2.975524\n",
       "Beans (kidney)                   3.065130\n",
       "Bread (common)                   3.149557\n",
       "Meat (chicken, imported)         3.258333\n",
       "Potatoes (medium size)           3.337528\n",
       "Water (drinking)                 3.426732\n",
       "Tomatoes (greenhouse)            3.667646\n",
       "Tortilla (maize)                 4.132389\n",
       "Cassava meal                     4.431776\n",
       "Potatoes (black)                 4.939310\n",
       "Cheese (white, boiled)           5.286899\n",
       "Bananas (medium size)            5.596964\n",
       "Beetroots                        5.622410\n",
       "Sorghum (food aid)               5.923578\n",
       "Wheat flour (high quality)       5.964929\n",
       "Rice (medium grain)              6.212385\n",
       "Rice (carolina 2da)              6.356250\n",
       "Name: mp_price, dtype: float64"
      ]
     },
     "execution_count": 37,
     "metadata": {},
     "output_type": "execute_result"
    }
   ],
   "source": [
    "products.sort_values(ascending=True).head(20)"
   ]
  },
  {
   "cell_type": "markdown",
   "metadata": {},
   "source": [
    "Doing the opposite suggest that mostly plant food have the cheapest price, as well as water and eggs. We will try to further aggregate the data, because the product categories are to many. We removed the many of the similar types and created the new variable product2."
   ]
  },
  {
   "cell_type": "code",
   "execution_count": 42,
   "metadata": {
    "collapsed": true
   },
   "outputs": [],
   "source": [
    "product2 = food_price_data.groupby([x.split(' ')[0] for x in food_price_data['cm_name']], axis=0)['mp_price'].mean()"
   ]
  },
  {
   "cell_type": "code",
   "execution_count": 49,
   "metadata": {},
   "outputs": [
    {
     "data": {
      "text/plain": [
       "(86,)"
      ]
     },
     "execution_count": 49,
     "metadata": {},
     "output_type": "execute_result"
    }
   ],
   "source": [
    "product2.shape"
   ]
  },
  {
   "cell_type": "code",
   "execution_count": 44,
   "metadata": {},
   "outputs": [
    {
     "data": {
      "text/plain": [
       "Livestock     72486.875456\n",
       "Sesame        19660.346536\n",
       "Wage          15081.809960\n",
       "Gari          11428.958842\n",
       "Rice          11138.845516\n",
       "Meat           9334.460052\n",
       "Fish           8296.532474\n",
       "Beans          7441.436568\n",
       "Charcoal       5465.269476\n",
       "Cowpeas        5311.199394\n",
       "Yam            4376.368489\n",
       "Chili          4210.502747\n",
       "Garlic         3368.442551\n",
       "Soybeans       3145.146410\n",
       "Blackberry     2458.680000\n",
       "Peas           2282.405504\n",
       "Broccoli       2280.546667\n",
       "Coffee         2100.743724\n",
       "Groundnuts     2081.877997\n",
       "Fuel           1770.573768\n",
       "Name: mp_price, dtype: float64"
      ]
     },
     "execution_count": 44,
     "metadata": {},
     "output_type": "execute_result"
    }
   ],
   "source": [
    "product2.sort_values(ascending=False).head(20)"
   ]
  },
  {
   "cell_type": "code",
   "execution_count": 63,
   "metadata": {},
   "outputs": [
    {
     "data": {
      "image/png": "[encoded data removed]",
      "text/plain": [
       "<matplotlib.figure.Figure at 0x25e18eff8d0>"
      ]
     },
     "metadata": {},
     "output_type": "display_data"
    }
   ],
   "source": [
    "plt.figure(figsize=(15,10))\n",
    "plt.title(\"Top 20 products by price\")\n",
    "plt.bar(product2.sort_values(ascending=False).head(20).index, product2.sort_values(ascending=False).head(20).values, align='center', alpha=0.5)\n",
    "plt.xticks(product2.sort_values(ascending=False).head(20).index, rotation=90)\n",
    "plt.ylabel('price')\n",
    "plt.show()"
   ]
  },
  {
   "cell_type": "markdown",
   "metadata": {},
   "source": [
    "Now we have reduced the number of products to 86. The top 20 confirms our suspicion that the livestock mean price is significantly higher then the rest, after that are various plant species some meat and fish. The visualization is telling us how much higher is the price of the livestock. Interesting the 20th potions is Fuel, it can be suggested that some of the food produced is used as a biofuel, see here https://en.wikipedia.org/wiki/Biofuel. Unfortunately looking at the data there is not something useful for further exploration on the topic. Now lets view the bottom 20."
   ]
  },
  {
   "cell_type": "code",
   "execution_count": 45,
   "metadata": {},
   "outputs": [
    {
     "data": {
      "text/plain": [
       "Bananas        205.641361\n",
       "Beans(mash)    203.113371\n",
       "Potatoes       171.549511\n",
       "Poultry        153.028182\n",
       "Carrots        146.618798\n",
       "Cabbage        119.939404\n",
       "Sweet          115.756188\n",
       "Butter          95.931737\n",
       "Ghee            88.872130\n",
       "Curd            66.996478\n",
       "Parsley         65.931530\n",
       "Cashew          56.336731\n",
       "Fat             35.001130\n",
       "Sour            29.473698\n",
       "Buckwheat       21.979291\n",
       "Noodles          9.330782\n",
       "Labaneh          8.011913\n",
       "Beetroots        5.622410\n",
       "Tortilla         4.132389\n",
       "Water            3.426732\n",
       "Name: mp_price, dtype: float64"
      ]
     },
     "execution_count": 45,
     "metadata": {},
     "output_type": "execute_result"
    }
   ],
   "source": [
    "product2.sort_values(ascending=False).tail(20)"
   ]
  },
  {
   "cell_type": "code",
   "execution_count": 64,
   "metadata": {},
   "outputs": [
    {
     "data": {
      "image/png": "[encoded data removed]",
      "text/plain": [
       "<matplotlib.figure.Figure at 0x25e19060ba8>"
      ]
     },
     "metadata": {},
     "output_type": "display_data"
    }
   ],
   "source": [
    "plt.figure(figsize=(15,10))\n",
    "plt.title(\"Lowest 20 products by price\")\n",
    "plt.bar(product2.sort_values(ascending=False).tail(20).index, product2.sort_values(ascending=False).tail(20).values, align='center', alpha=0.5)\n",
    "plt.xticks(product2.sort_values(ascending=False).tail(20).index, rotation=90)\n",
    "plt.ylabel('price')\n",
    "plt.show()"
   ]
  },
  {
   "cell_type": "markdown",
   "metadata": {},
   "source": [
    "The lowest 20 are occupied with mostly plant food. Their mean price is significantly lower then the rest. The variance between the price is lower then in the top 20, but the lowest 6 are significantly lower then the rest.\n",
    "The lowest is water. It is hard to interpret why the price of water is the lowest, is it only as a by product for the process of creating other food products. Considering many countries are suffering dwindling water supply, the price of water should be higher. See here more on the topic https://www.theguardian.com/global-development-professionals-network/2017/mar/27/aquifers-worlds-reserve-water-tank-asia"
   ]
  },
  {
   "cell_type": "code",
   "execution_count": 66,
   "metadata": {},
   "outputs": [
    {
     "data": {
      "image/png": "[encoded data removed]",
      "text/plain": [
       "<matplotlib.figure.Figure at 0x25e18f0d5c0>"
      ]
     },
     "metadata": {},
     "output_type": "display_data"
    }
   ],
   "source": [
    "plt.boxplot([product2.sort_values(ascending=False).head(20).values, product2.sort_values(ascending=False).tail(20).values], labels = [\"top 20 with highest price\", \"lowest 20\"])\n",
    "plt.ylabel(\"price\")\n",
    "plt.title('Boxplot')\n",
    "plt.show()"
   ]
  },
  {
   "cell_type": "markdown",
   "metadata": {},
   "source": [
    "The boxplot proves that the variance is higher for the top 20, the live stock is is clearly an outlier. Lets try to remove the outlier, to see if there is a significant change. There is another lower outlierso it is also going to be removed."
   ]
  },
  {
   "cell_type": "code",
   "execution_count": 78,
   "metadata": {},
   "outputs": [
    {
     "data": {
      "image/png": "[encoded data removed]",
      "text/plain": [
       "<matplotlib.figure.Figure at 0x25e250ae0b8>"
      ]
     },
     "metadata": {},
     "output_type": "display_data"
    }
   ],
   "source": [
    "plt.boxplot([product2.sort_values(ascending=False).iloc[2:].head(20).values, product2.sort_values(ascending=False).tail(20).values], labels = [\"top 20 with highest price\", \"lowest 20\"])\n",
    "plt.ylabel(\"price\")\n",
    "plt.title('Boxplot without the two outliers')\n",
    "plt.show()"
   ]
  },
  {
   "cell_type": "markdown",
   "metadata": {},
   "source": [
    "Even without the outliers there is still a large difference, now lets try to plot the lowest 20 separately because it is not very evident in this boxplot, the scale for the top 20 if far higher."
   ]
  },
  {
   "cell_type": "code",
   "execution_count": 79,
   "metadata": {},
   "outputs": [
    {
     "data": {
      "image/png": "[encoded data removed]",
      "text/plain": [
       "<matplotlib.figure.Figure at 0x25e3122df98>"
      ]
     },
     "metadata": {},
     "output_type": "display_data"
    }
   ],
   "source": [
    "plt.boxplot([product2.sort_values(ascending=False).tail(20).values], labels = [\"lowest 20\"])\n",
    "plt.ylabel(\"price\")\n",
    "plt.title('Boxplot lowest 20')\n",
    "plt.show()"
   ]
  },
  {
   "cell_type": "markdown",
   "metadata": {},
   "source": [
    "With the latest boxplot we can conclude that the lowest 20 products have a much more symmetric distribution compared with the top 20, who seem to be skewed to the right. Now a histogram will make things more clearly."
   ]
  },
  {
   "cell_type": "code",
   "execution_count": 81,
   "metadata": {},
   "outputs": [
    {
     "data": {
      "image/png": "[encoded data removed]",
      "text/plain": [
       "<matplotlib.figure.Figure at 0x25e313f3e10>"
      ]
     },
     "metadata": {},
     "output_type": "display_data"
    }
   ],
   "source": [
    "plt.hist(product2, edgecolor = 'black')\n",
    "plt.xlabel(\"products\")\n",
    "plt.ylabel(\"price\")\n",
    "plt.title('Histogram of the products')\n",
    "plt.show()"
   ]
  },
  {
   "cell_type": "code",
   "execution_count": 107,
   "metadata": {},
   "outputs": [
    {
     "data": {
      "text/plain": [
       "7.2542362732803678"
      ]
     },
     "execution_count": 107,
     "metadata": {},
     "output_type": "execute_result"
    }
   ],
   "source": [
    "product2.skew()"
   ]
  },
  {
   "cell_type": "markdown",
   "metadata": {},
   "source": [
    "The distribution is very skewed to the left. We will try to remove the outliers and increase the number of bins for a clear picture."
   ]
  },
  {
   "cell_type": "code",
   "execution_count": 84,
   "metadata": {},
   "outputs": [
    {
     "data": {
      "image/png": "[encoded data removed]",
      "text/plain": [
       "<matplotlib.figure.Figure at 0x25e31e512b0>"
      ]
     },
     "metadata": {},
     "output_type": "display_data"
    }
   ],
   "source": [
    "plt.hist(product2.sort_values(ascending=False).iloc[2:], edgecolor = 'black', bins = 20)\n",
    "plt.xlabel(\"products\")\n",
    "plt.ylabel(\"price\")\n",
    "plt.title('Histogram of the products without the 2 biggest outliers')\n",
    "plt.show()"
   ]
  },
  {
   "cell_type": "code",
   "execution_count": 106,
   "metadata": {},
   "outputs": [
    {
     "data": {
      "text/plain": [
       "2.9428586892652127"
      ]
     },
     "execution_count": 106,
     "metadata": {},
     "output_type": "execute_result"
    }
   ],
   "source": [
    "product2.sort_values(ascending=False).iloc[2:].skew()"
   ]
  },
  {
   "cell_type": "markdown",
   "metadata": {},
   "source": [
    "Still the majority are cheaper then the rest, the more expensive products don't have a very high number. We will try to remove the top 15 products to see if the distribution will become smoother. Still the majority are concentrated in the lower part."
   ]
  },
  {
   "cell_type": "code",
   "execution_count": 85,
   "metadata": {},
   "outputs": [
    {
     "data": {
      "image/png": "[encoded data removed]",
      "text/plain": [
       "<matplotlib.figure.Figure at 0x25e31e7b390>"
      ]
     },
     "metadata": {},
     "output_type": "display_data"
    }
   ],
   "source": [
    "plt.hist(product2.sort_values(ascending=False).iloc[15:], edgecolor = 'black', bins = 20)\n",
    "plt.xlabel(\"products\")\n",
    "plt.ylabel(\"price\")\n",
    "plt.title('Histogram of the products without the 15 biggest outliers')\n",
    "plt.show()"
   ]
  },
  {
   "cell_type": "code",
   "execution_count": 105,
   "metadata": {},
   "outputs": [
    {
     "data": {
      "text/plain": [
       "1.0773168907536925"
      ]
     },
     "execution_count": 105,
     "metadata": {},
     "output_type": "execute_result"
    }
   ],
   "source": [
    "product2.sort_values(ascending=False).iloc[15:].skew()"
   ]
  },
  {
   "cell_type": "code",
   "execution_count": 86,
   "metadata": {},
   "outputs": [
    {
     "data": {
      "text/plain": [
       "Index(['Apples', 'Avocados', 'Bananas', 'Beans', 'Beans(mash)', 'Beetroots',\n",
       "       'Blackberry', 'Bread', 'Broccoli', 'Buckwheat', 'Bulgur', 'Butter',\n",
       "       'Cabbage', 'Carrots', 'Cashew', 'Cassava', 'Cauliflower', 'Charcoal',\n",
       "       'Cheese', 'Chickpeas', 'Chili', 'Cocoa', 'Coffee', 'Cornstarch',\n",
       "       'Cotton', 'Cowpeas', 'Cucumbers', 'Curd', 'Dates', 'Eggplants', 'Eggs',\n",
       "       'Exchange', 'Fat', 'Fish', 'Fonio', 'Fuel', 'Gari', 'Garlic', 'Ghee',\n",
       "       'Groundnuts', 'Guava', 'Labaneh', 'Lentils', 'Lettuce', 'Livestock',\n",
       "       'Maize', 'Mangoes', 'Meat', 'Milk', 'Millet', 'Noodles', 'Oil',\n",
       "       'Onions', 'Oranges', 'Papaya', 'Parsley', 'Passion', 'Pasta', 'Peanut',\n",
       "       'Peas', 'Peppers', 'Plantains', 'Potatoes', 'Poultry', 'Pulses',\n",
       "       'Pumpkin', 'Rice', 'Salt', 'Sesame', 'Sorghum', 'Sour', 'Soybeans',\n",
       "       'Spinach', 'Sugar', 'Sweet', 'Tamarillos/tree', 'Tea', 'Tomatoes',\n",
       "       'Tortilla', 'Transport', 'Wage', 'Water', 'Wheat', 'Yam', 'Yogurt',\n",
       "       'Zucchini'],\n",
       "      dtype='object')"
      ]
     },
     "execution_count": 86,
     "metadata": {},
     "output_type": "execute_result"
    }
   ],
   "source": [
    "product2.index"
   ]
  },
  {
   "cell_type": "markdown",
   "metadata": {},
   "source": [
    "Now let us consider that the product are divided into 2 groups, animal-derived products and plant derived products. When we gen the product2 index we see that some of the products are not a part of the 2 categories like water, salt, there is also other costs, that we have not come across earlier like Transport, Wage, Charcoal, Exchange or Fuel (it can be speculated if the fuel is plant derived or traditional fossil fuels, lets assume its plant derived and we will leave it hear), there is also oil (let as assume its plant oil and it will stay). We will omit the 'wage' and the 'transport', 'charcoal', 'exchange' from now own. It would be wise to do the same exploration as the above but without this 'additions'."
   ]
  },
  {
   "cell_type": "code",
   "execution_count": 97,
   "metadata": {},
   "outputs": [
    {
     "data": {
      "text/plain": [
       "Wage         15081.809960\n",
       "Transport      681.439704\n",
       "Charcoal      5465.269476\n",
       "Exchange       538.113119\n",
       "Name: mp_price, dtype: float64"
      ]
     },
     "execution_count": 97,
     "metadata": {},
     "output_type": "execute_result"
    }
   ],
   "source": [
    "product2[['Wage', 'Transport','Charcoal','Exchange' ]]"
   ]
  },
  {
   "cell_type": "markdown",
   "metadata": {},
   "source": [
    "If we get the wage and the transport, charcoal, exchange separately we see that they are not outliers, none make it to the top 20."
   ]
  },
  {
   "cell_type": "code",
   "execution_count": 92,
   "metadata": {},
   "outputs": [
    {
     "data": {
      "text/plain": [
       "count       86.000000\n",
       "mean      2671.669273\n",
       "std       8331.367310\n",
       "min          3.426732\n",
       "25%        216.734536\n",
       "50%        636.871839\n",
       "75%       1614.026810\n",
       "max      72486.875456\n",
       "Name: mp_price, dtype: float64"
      ]
     },
     "execution_count": 92,
     "metadata": {},
     "output_type": "execute_result"
    }
   ],
   "source": [
    "product2.describe()"
   ]
  },
  {
   "cell_type": "markdown",
   "metadata": {},
   "source": [
    "Now we get the descriptive statistics, both wage and transport are below the mean, what if we remove the 15 biggest?\n",
    "The mean drops mean and standard deviation drop significantly. We don't think that the wage and the transport, charcoal, exchange are going to have a very big impact, considering the time, we will leave their removal for the above research for another time. But now they will be removed from now own. Livestock is also removed as being the largest outlier."
   ]
  },
  {
   "cell_type": "code",
   "execution_count": 94,
   "metadata": {},
   "outputs": [
    {
     "data": {
      "text/plain": [
       "count      71.000000\n",
       "mean      655.756099\n",
       "std       617.595760\n",
       "min         3.426732\n",
       "25%       187.331441\n",
       "50%       489.675007\n",
       "75%      1022.681356\n",
       "max      2282.405504\n",
       "Name: mp_price, dtype: float64"
      ]
     },
     "execution_count": 94,
     "metadata": {},
     "output_type": "execute_result"
    }
   ],
   "source": [
    "product2.sort_values(ascending=False).iloc[15:].describe()"
   ]
  },
  {
   "cell_type": "code",
   "execution_count": 98,
   "metadata": {},
   "outputs": [
    {
     "data": {
      "text/plain": [
       "count      67.000000\n",
       "mean      608.599672\n",
       "std       567.427670\n",
       "min         3.426732\n",
       "25%       162.288846\n",
       "50%       458.264684\n",
       "75%       903.947403\n",
       "max      2100.743724\n",
       "Name: mp_price, dtype: float64"
      ]
     },
     "execution_count": 98,
     "metadata": {},
     "output_type": "execute_result"
    }
   ],
   "source": [
    "product2.drop(['Wage', 'Transport','Charcoal' ,'Exchange']).sort_values(ascending=False).iloc[15:].describe()"
   ]
  },
  {
   "cell_type": "code",
   "execution_count": 100,
   "metadata": {
    "collapsed": true
   },
   "outputs": [],
   "source": [
    "plant_derived = product2[['Apples', 'Avocados', 'Bananas', 'Beans', 'Beans(mash)', 'Beetroots',\n",
    "       'Blackberry', 'Bread', 'Broccoli', 'Buckwheat','Bulgur','Cabbage', 'Carrots', 'Cashew', 'Cassava', 'Cauliflower',\n",
    "       'Chili', 'Cocoa', 'Coffee', 'Cornstarch','Cotton','Cowpeas', 'Cucumbers','Dates', 'Eggplants','Fonio', 'Gari',\n",
    "        'Garlic','Guava','Lentils','Lettuce','Maize', 'Mangoes','Millet', 'Noodles', 'Oil','Onions', 'Oranges', 'Papaya',\n",
    "        'Parsley', 'Passion', 'Pasta', 'Peanut','Peas', 'Peppers', 'Plantains', 'Potatoes', 'Poultry', 'Pulses',\n",
    "        'Pumpkin', 'Rice','Sesame', 'Sorghum', 'Sour', 'Soybeans',\n",
    "       'Spinach', 'Sugar', 'Sweet', 'Tamarillos/tree', 'Tea', 'Tomatoes','Tortilla', 'Wheat', 'Yam', 'Yogurt',\n",
    "       'Zucchini']]"
   ]
  },
  {
   "cell_type": "code",
   "execution_count": 101,
   "metadata": {
    "collapsed": true
   },
   "outputs": [],
   "source": [
    "animal_derived = product2[['Butter','Cheese','Eggs','Curd','Fat', 'Fish','Labaneh','Meat', 'Milk']]"
   ]
  },
  {
   "cell_type": "code",
   "execution_count": 103,
   "metadata": {},
   "outputs": [
    {
     "data": {
      "text/plain": [
       "66"
      ]
     },
     "execution_count": 103,
     "metadata": {},
     "output_type": "execute_result"
    }
   ],
   "source": [
    "plant_derived.count()"
   ]
  },
  {
   "cell_type": "code",
   "execution_count": 104,
   "metadata": {},
   "outputs": [
    {
     "data": {
      "text/plain": [
       "9"
      ]
     },
     "execution_count": 104,
     "metadata": {},
     "output_type": "execute_result"
    }
   ],
   "source": [
    "animal_derived.count()"
   ]
  },
  {
   "cell_type": "markdown",
   "metadata": {},
   "source": [
    "### Hypothesis Testing\n",
    "The number of animal derived products is far lower then the rest."
   ]
  },
  {
   "cell_type": "code",
   "execution_count": 111,
   "metadata": {},
   "outputs": [
    {
     "data": {
      "image/png": "[encoded data removed]",
      "text/plain": [
       "<matplotlib.figure.Figure at 0x25e31e87cf8>"
      ]
     },
     "metadata": {},
     "output_type": "display_data"
    }
   ],
   "source": [
    "plt.boxplot([plant_derived.values, animal_derived.values], labels = [\"plant derived\", \"animal derived\"])\n",
    "plt.ylabel(\"price\")\n",
    "plt.title('Boxplot for animal and plant derived')\n",
    "plt.show()"
   ]
  },
  {
   "cell_type": "code",
   "execution_count": 112,
   "metadata": {},
   "outputs": [
    {
     "data": {
      "text/plain": [
       "3.9032296714241212"
      ]
     },
     "execution_count": 112,
     "metadata": {},
     "output_type": "execute_result"
    }
   ],
   "source": [
    "plant_derived.skew()"
   ]
  },
  {
   "cell_type": "code",
   "execution_count": 113,
   "metadata": {},
   "outputs": [
    {
     "data": {
      "text/plain": [
       "1.523287907300602"
      ]
     },
     "execution_count": 113,
     "metadata": {},
     "output_type": "execute_result"
    }
   ],
   "source": [
    "animal_derived.skew()"
   ]
  },
  {
   "cell_type": "code",
   "execution_count": 116,
   "metadata": {},
   "outputs": [
    {
     "data": {
      "text/plain": [
       "'Sesame'"
      ]
     },
     "execution_count": 116,
     "metadata": {},
     "output_type": "execute_result"
    }
   ],
   "source": [
    "plant_derived.idxmax()"
   ]
  },
  {
   "cell_type": "markdown",
   "metadata": {},
   "source": [
    "The Boxplot shows that the plant derived products are more skewed to the right. We will try to remove the biggest outlier in the plants derived in our case 'Sesame'."
   ]
  },
  {
   "cell_type": "code",
   "execution_count": 117,
   "metadata": {},
   "outputs": [
    {
     "data": {
      "image/png": "[encoded data removed]",
      "text/plain": [
       "<matplotlib.figure.Figure at 0x25e31ed7390>"
      ]
     },
     "metadata": {},
     "output_type": "display_data"
    }
   ],
   "source": [
    "plt.boxplot([plant_derived.sort_values(ascending=False).iloc[1:].values, animal_derived.values], labels = [\"plant derived\", \"animal derived\"])\n",
    "plt.ylabel(\"price\")\n",
    "plt.title('Boxplot for animal and plant derived')\n",
    "plt.show()"
   ]
  },
  {
   "cell_type": "markdown",
   "metadata": {},
   "source": [
    "We will try a one way parametric ANOVA test from the stats package, to see if there is any statistical significant differences between the mean of the 2 groups, for more information of the test see here: https://www.marsja.se/four-ways-to-conduct-one-way-anovas-using-python/. We set the H0 hypothesis that there is no statistically significant difference between the 2 means, and the H1 that there is. We take the default value for the p-value of 0.05, if the it is higher we reject the H1 hypothesis else, we reject the H0 hypothesis."
   ]
  },
  {
   "cell_type": "code",
   "execution_count": 119,
   "metadata": {
    "collapsed": true
   },
   "outputs": [],
   "source": [
    "F, p = stats.f_oneway(plant_derived.sort_values(ascending=False).iloc[1:].values, animal_derived.values)"
   ]
  },
  {
   "cell_type": "code",
   "execution_count": 120,
   "metadata": {},
   "outputs": [
    {
     "data": {
      "text/plain": [
       "(1.523497920564596, 0.22110442241658015)"
      ]
     },
     "execution_count": 120,
     "metadata": {},
     "output_type": "execute_result"
    }
   ],
   "source": [
    "F, p"
   ]
  },
  {
   "cell_type": "markdown",
   "metadata": {},
   "source": [
    "The p-value is higher the 0.05 so, we will conclude that H0 is the correct hypothesis. This is good, but if we read the criteria for for one way ANOVA we can see that the two populations are not normally distributed and it is possible that they are dependent or and populations are not the same see here:\n",
    "https://en.wikipedia.org/wiki/Homogeneity_and_heterogeneity \n",
    "This leaves us that the results are not to be trusted."
   ]
  },
  {
   "cell_type": "code",
   "execution_count": 122,
   "metadata": {},
   "outputs": [
    {
     "data": {
      "image/png": "[encoded data removed]",
      "text/plain": [
       "<matplotlib.figure.Figure at 0x25e18f830f0>"
      ]
     },
     "metadata": {},
     "output_type": "display_data"
    }
   ],
   "source": [
    "plt.hist(plant_derived.sort_values(ascending=False).iloc[1:], edgecolor = 'black', bins = 20)\n",
    "plt.xlabel(\"Plant products\")\n",
    "plt.ylabel(\"price\")\n",
    "plt.title('Histogram of plant based products')\n",
    "plt.show()"
   ]
  },
  {
   "cell_type": "code",
   "execution_count": 123,
   "metadata": {},
   "outputs": [
    {
     "data": {
      "image/png": "[encoded data removed]",
      "text/plain": [
       "<matplotlib.figure.Figure at 0x25e18f48eb8>"
      ]
     },
     "metadata": {},
     "output_type": "display_data"
    }
   ],
   "source": [
    "plt.hist(animal_derived, edgecolor = 'black', bins = 20)\n",
    "plt.xlabel(\"Plantproducts\")\n",
    "plt.ylabel(\"price\")\n",
    "plt.title('Histogram of plant based products')\n",
    "plt.show()"
   ]
  },
  {
   "cell_type": "markdown",
   "metadata": {},
   "source": [
    "Now we will use another non-parametric test Kruskal-Wallis H-test.For more information for the test check here: https://docs.scipy.org/doc/scipy-0.14.0/reference/generated/scipy.stats.mstats.kruskalwallis.html The hypothesis are the same. Now we don't assume normal distributions and similar sizes to the population."
   ]
  },
  {
   "cell_type": "code",
   "execution_count": 126,
   "metadata": {
    "collapsed": true
   },
   "outputs": [],
   "source": [
    "H, p_value = mstats.kruskalwallis(plant_derived.sort_values(ascending=False).iloc[1:].values, animal_derived.values)"
   ]
  },
  {
   "cell_type": "code",
   "execution_count": 128,
   "metadata": {},
   "outputs": [
    {
     "data": {
      "text/plain": [
       "(6.837606838416832e-05, 0.99340238187075891)"
      ]
     },
     "execution_count": 128,
     "metadata": {},
     "output_type": "execute_result"
    }
   ],
   "source": [
    "H, p_value"
   ]
  },
  {
   "cell_type": "markdown",
   "metadata": {},
   "source": [
    "The p-value is significantly higher then 0.05 meaning we reject the H1 hypothesis, and conclude that the mean price of the plant and animal derived product are statistically similar."
   ]
  },
  {
   "cell_type": "code",
   "execution_count": 129,
   "metadata": {},
   "outputs": [
    {
     "data": {
      "text/plain": [
       "2435.139785765948"
      ]
     },
     "execution_count": 129,
     "metadata": {},
     "output_type": "execute_result"
    }
   ],
   "source": [
    "animal_derived.mean()"
   ]
  },
  {
   "cell_type": "code",
   "execution_count": 131,
   "metadata": {},
   "outputs": [
    {
     "data": {
      "text/plain": [
       "1637.1796028978513"
      ]
     },
     "execution_count": 131,
     "metadata": {},
     "output_type": "execute_result"
    }
   ],
   "source": [
    "plant_derived.mean()"
   ]
  },
  {
   "cell_type": "markdown",
   "metadata": {},
   "source": [
    "Unfortunately this test is also not the best, is assumes that the populations are independent. Some of the plant derived food can be used for food for animals. There could also be competition for land for example so there is likely some form of interdependence between the populations. The issue should be addressed for example with https://en.wikipedia.org/wiki/Multivariate_analysis_of_variance. But for now we conclude the work on this notebook."
   ]
  },
  {
   "cell_type": "markdown",
   "metadata": {},
   "source": [
    "### Conclusion\n",
    "The focus of this notebook was on the the products and their prices, several grouping and preprocessing have been used. Finally the products were divided to plant and animal based. Some of the products were excluded, also several links have been added, if the reader is more interested on the subject. Finally an one way ANOVA test and the non-parametric test Kruskal-Wallis H-test were used. The results were inconclusive."
   ]
  },
  {
   "cell_type": "markdown",
   "metadata": {},
   "source": [
    "### Further development\n",
    "In the future the time and the countries, sectors could also be checked. Some counties are exporters, others are importers, there could be seasonality based on the time of year.\n",
    "<br>\n",
    "Also there is a clear connection between the variables, this should also be addressed."
   ]
  },
  {
   "cell_type": "code",
   "execution_count": null,
   "metadata": {
    "collapsed": true
   },
   "outputs": [],
   "source": []
  }
 ],
 "metadata": {
  "kernelspec": {
   "display_name": "Python 3",
   "language": "python",
   "name": "python3"
  },
  "language_info": {
   "codemirror_mode": {
    "name": "ipython",
    "version": 3
   },
   "file_extension": ".py",
   "mimetype": "text/x-python",
   "name": "python",
   "nbconvert_exporter": "python",
   "pygments_lexer": "ipython3",
   "version": "3.6.3"
  }
 },
 "nbformat": 4,
 "nbformat_minor": 2
}
