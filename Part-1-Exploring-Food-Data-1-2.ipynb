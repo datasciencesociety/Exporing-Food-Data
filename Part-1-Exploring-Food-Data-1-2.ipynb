{
 "cells": [
  {
   "cell_type": "markdown",
   "metadata": {},
   "source": [
    "### Abstract\n",
    "When we first look at the file we can see that it is the biggest one of all, most of the data will not be used, we will create samples. Lets set an a priory goal to see if there is a connection between the countries and some of the ingredients that don't have that much NAN values. We should be careful with the path we take, it could lead us to a dead end. This may require starting the whole thing again almost from the start."
   ]
  },
  {
   "cell_type": "code",
   "execution_count": 10,
   "metadata": {
    "collapsed": true
   },
   "outputs": [],
   "source": [
    "%matplotlib inline"
   ]
  },
  {
   "cell_type": "code",
   "execution_count": 164,
   "metadata": {
    "collapsed": true
   },
   "outputs": [],
   "source": [
    "import numpy as np\n",
    "import pandas as pd\n",
    "import matplotlib.pyplot as plt\n",
    "import seaborn as sns\n",
    "from scipy import stats"
   ]
  },
  {
   "cell_type": "markdown",
   "metadata": {},
   "source": [
    "# Author\n",
    "## Stefan Panev"
   ]
  },
  {
   "cell_type": "markdown",
   "metadata": {},
   "source": [
    "### Introduction\n",
    "For the first dataset the large open food facts file is used. Due to its large size this file will not be uploaded. The data can be seen in this link: https://www.kaggle.com/openfoodfacts/world-food-facts/home"
   ]
  },
  {
   "cell_type": "markdown",
   "metadata": {},
   "source": [
    "## Table of Contents:\n",
    "* [Introduction](#first-bullet)\n",
    "* [Reading the Data and Preprocessing](#second-bullet)\n",
    "* [Correlation Analysis](#third-bullet)\n",
    "* [EDA - grouping and plotting](#fourth-bullet)\n",
    "* [Hypothesis testing via t test](#fifth-bullet)\n",
    "* [Conclusion](#sixth-bullet)\n",
    "* [Further Development](#seventh-bullet)"
   ]
  },
  {
   "cell_type": "markdown",
   "metadata": {},
   "source": [
    "### Reading the Data and Preprocessing\n",
    "The file is stored in the variable food_data, the separator tab or '\\t' has been used. At the beginning we have 356027 rows and 163 columns, the names of the columns can be viewed below."
   ]
  },
  {
   "cell_type": "code",
   "execution_count": 12,
   "metadata": {},
   "outputs": [
    {
     "name": "stderr",
     "output_type": "stream",
     "text": [
      "C:\\Users\\Stefan\\Anaconda3\\lib\\site-packages\\IPython\\core\\interactiveshell.py:2698: DtypeWarning: Columns (0,3,5,19,20,24,25,26,27,28,36,37,38,39,48) have mixed types. Specify dtype option on import or set low_memory=False.\n",
      "  interactivity=interactivity, compiler=compiler, result=result)\n"
     ]
    }
   ],
   "source": [
    "food_data = pd.read_csv('data\\en.openfoodfacts.org.products.txt',sep='\\t')"
   ]
  },
  {
   "cell_type": "code",
   "execution_count": 13,
   "metadata": {},
   "outputs": [
    {
     "data": {
      "text/plain": [
       "(356027, 163)"
      ]
     },
     "execution_count": 13,
     "metadata": {},
     "output_type": "execute_result"
    }
   ],
   "source": [
    "food_data.shape"
   ]
  },
  {
   "cell_type": "code",
   "execution_count": 14,
   "metadata": {},
   "outputs": [
    {
     "data": {
      "text/html": [
       "<div>\n",
       "<style>\n",
       "    .dataframe thead tr:only-child th {\n",
       "        text-align: right;\n",
       "    }\n",
       "\n",
       "    .dataframe thead th {\n",
       "        text-align: left;\n",
       "    }\n",
       "\n",
       "    .dataframe tbody tr th {\n",
       "        vertical-align: top;\n",
       "    }\n",
       "</style>\n",
       "<table border=\"1\" class=\"dataframe\">\n",
       "  <thead>\n",
       "    <tr style=\"text-align: right;\">\n",
       "      <th></th>\n",
       "      <th>code</th>\n",
       "      <th>url</th>\n",
       "      <th>creator</th>\n",
       "      <th>created_t</th>\n",
       "      <th>created_datetime</th>\n",
       "      <th>last_modified_t</th>\n",
       "      <th>last_modified_datetime</th>\n",
       "      <th>product_name</th>\n",
       "      <th>generic_name</th>\n",
       "      <th>quantity</th>\n",
       "      <th>...</th>\n",
       "      <th>fruits-vegetables-nuts_100g</th>\n",
       "      <th>fruits-vegetables-nuts-estimate_100g</th>\n",
       "      <th>collagen-meat-protein-ratio_100g</th>\n",
       "      <th>cocoa_100g</th>\n",
       "      <th>chlorophyl_100g</th>\n",
       "      <th>carbon-footprint_100g</th>\n",
       "      <th>nutrition-score-fr_100g</th>\n",
       "      <th>nutrition-score-uk_100g</th>\n",
       "      <th>glycemic-index_100g</th>\n",
       "      <th>water-hardness_100g</th>\n",
       "    </tr>\n",
       "  </thead>\n",
       "  <tbody>\n",
       "    <tr>\n",
       "      <th>0</th>\n",
       "      <td>3087</td>\n",
       "      <td>http://world-en.openfoodfacts.org/product/0000...</td>\n",
       "      <td>openfoodfacts-contributors</td>\n",
       "      <td>1474103866</td>\n",
       "      <td>2016-09-17T09:17:46Z</td>\n",
       "      <td>1474103893</td>\n",
       "      <td>2016-09-17T09:18:13Z</td>\n",
       "      <td>Farine de blé noir</td>\n",
       "      <td>NaN</td>\n",
       "      <td>1kg</td>\n",
       "      <td>...</td>\n",
       "      <td>NaN</td>\n",
       "      <td>NaN</td>\n",
       "      <td>NaN</td>\n",
       "      <td>NaN</td>\n",
       "      <td>NaN</td>\n",
       "      <td>NaN</td>\n",
       "      <td>NaN</td>\n",
       "      <td>NaN</td>\n",
       "      <td>NaN</td>\n",
       "      <td>NaN</td>\n",
       "    </tr>\n",
       "    <tr>\n",
       "      <th>1</th>\n",
       "      <td>4530</td>\n",
       "      <td>http://world-en.openfoodfacts.org/product/0000...</td>\n",
       "      <td>usda-ndb-import</td>\n",
       "      <td>1489069957</td>\n",
       "      <td>2017-03-09T14:32:37Z</td>\n",
       "      <td>1489069957</td>\n",
       "      <td>2017-03-09T14:32:37Z</td>\n",
       "      <td>Banana Chips Sweetened (Whole)</td>\n",
       "      <td>NaN</td>\n",
       "      <td>NaN</td>\n",
       "      <td>...</td>\n",
       "      <td>NaN</td>\n",
       "      <td>NaN</td>\n",
       "      <td>NaN</td>\n",
       "      <td>NaN</td>\n",
       "      <td>NaN</td>\n",
       "      <td>NaN</td>\n",
       "      <td>14.0</td>\n",
       "      <td>14.0</td>\n",
       "      <td>NaN</td>\n",
       "      <td>NaN</td>\n",
       "    </tr>\n",
       "    <tr>\n",
       "      <th>2</th>\n",
       "      <td>4559</td>\n",
       "      <td>http://world-en.openfoodfacts.org/product/0000...</td>\n",
       "      <td>usda-ndb-import</td>\n",
       "      <td>1489069957</td>\n",
       "      <td>2017-03-09T14:32:37Z</td>\n",
       "      <td>1489069957</td>\n",
       "      <td>2017-03-09T14:32:37Z</td>\n",
       "      <td>Peanuts</td>\n",
       "      <td>NaN</td>\n",
       "      <td>NaN</td>\n",
       "      <td>...</td>\n",
       "      <td>NaN</td>\n",
       "      <td>NaN</td>\n",
       "      <td>NaN</td>\n",
       "      <td>NaN</td>\n",
       "      <td>NaN</td>\n",
       "      <td>NaN</td>\n",
       "      <td>0.0</td>\n",
       "      <td>0.0</td>\n",
       "      <td>NaN</td>\n",
       "      <td>NaN</td>\n",
       "    </tr>\n",
       "    <tr>\n",
       "      <th>3</th>\n",
       "      <td>16087</td>\n",
       "      <td>http://world-en.openfoodfacts.org/product/0000...</td>\n",
       "      <td>usda-ndb-import</td>\n",
       "      <td>1489055731</td>\n",
       "      <td>2017-03-09T10:35:31Z</td>\n",
       "      <td>1489055731</td>\n",
       "      <td>2017-03-09T10:35:31Z</td>\n",
       "      <td>Organic Salted Nut Mix</td>\n",
       "      <td>NaN</td>\n",
       "      <td>NaN</td>\n",
       "      <td>...</td>\n",
       "      <td>NaN</td>\n",
       "      <td>NaN</td>\n",
       "      <td>NaN</td>\n",
       "      <td>NaN</td>\n",
       "      <td>NaN</td>\n",
       "      <td>NaN</td>\n",
       "      <td>12.0</td>\n",
       "      <td>12.0</td>\n",
       "      <td>NaN</td>\n",
       "      <td>NaN</td>\n",
       "    </tr>\n",
       "    <tr>\n",
       "      <th>4</th>\n",
       "      <td>16094</td>\n",
       "      <td>http://world-en.openfoodfacts.org/product/0000...</td>\n",
       "      <td>usda-ndb-import</td>\n",
       "      <td>1489055653</td>\n",
       "      <td>2017-03-09T10:34:13Z</td>\n",
       "      <td>1489055653</td>\n",
       "      <td>2017-03-09T10:34:13Z</td>\n",
       "      <td>Organic Polenta</td>\n",
       "      <td>NaN</td>\n",
       "      <td>NaN</td>\n",
       "      <td>...</td>\n",
       "      <td>NaN</td>\n",
       "      <td>NaN</td>\n",
       "      <td>NaN</td>\n",
       "      <td>NaN</td>\n",
       "      <td>NaN</td>\n",
       "      <td>NaN</td>\n",
       "      <td>NaN</td>\n",
       "      <td>NaN</td>\n",
       "      <td>NaN</td>\n",
       "      <td>NaN</td>\n",
       "    </tr>\n",
       "  </tbody>\n",
       "</table>\n",
       "<p>5 rows × 163 columns</p>\n",
       "</div>"
      ],
      "text/plain": [
       "    code                                                url  \\\n",
       "0   3087  http://world-en.openfoodfacts.org/product/0000...   \n",
       "1   4530  http://world-en.openfoodfacts.org/product/0000...   \n",
       "2   4559  http://world-en.openfoodfacts.org/product/0000...   \n",
       "3  16087  http://world-en.openfoodfacts.org/product/0000...   \n",
       "4  16094  http://world-en.openfoodfacts.org/product/0000...   \n",
       "\n",
       "                      creator   created_t      created_datetime  \\\n",
       "0  openfoodfacts-contributors  1474103866  2016-09-17T09:17:46Z   \n",
       "1             usda-ndb-import  1489069957  2017-03-09T14:32:37Z   \n",
       "2             usda-ndb-import  1489069957  2017-03-09T14:32:37Z   \n",
       "3             usda-ndb-import  1489055731  2017-03-09T10:35:31Z   \n",
       "4             usda-ndb-import  1489055653  2017-03-09T10:34:13Z   \n",
       "\n",
       "  last_modified_t last_modified_datetime                    product_name  \\\n",
       "0      1474103893   2016-09-17T09:18:13Z              Farine de blé noir   \n",
       "1      1489069957   2017-03-09T14:32:37Z  Banana Chips Sweetened (Whole)   \n",
       "2      1489069957   2017-03-09T14:32:37Z                         Peanuts   \n",
       "3      1489055731   2017-03-09T10:35:31Z          Organic Salted Nut Mix   \n",
       "4      1489055653   2017-03-09T10:34:13Z                 Organic Polenta   \n",
       "\n",
       "  generic_name quantity         ...         fruits-vegetables-nuts_100g  \\\n",
       "0          NaN      1kg         ...                                 NaN   \n",
       "1          NaN      NaN         ...                                 NaN   \n",
       "2          NaN      NaN         ...                                 NaN   \n",
       "3          NaN      NaN         ...                                 NaN   \n",
       "4          NaN      NaN         ...                                 NaN   \n",
       "\n",
       "  fruits-vegetables-nuts-estimate_100g collagen-meat-protein-ratio_100g  \\\n",
       "0                                  NaN                              NaN   \n",
       "1                                  NaN                              NaN   \n",
       "2                                  NaN                              NaN   \n",
       "3                                  NaN                              NaN   \n",
       "4                                  NaN                              NaN   \n",
       "\n",
       "  cocoa_100g chlorophyl_100g carbon-footprint_100g nutrition-score-fr_100g  \\\n",
       "0        NaN             NaN                   NaN                     NaN   \n",
       "1        NaN             NaN                   NaN                    14.0   \n",
       "2        NaN             NaN                   NaN                     0.0   \n",
       "3        NaN             NaN                   NaN                    12.0   \n",
       "4        NaN             NaN                   NaN                     NaN   \n",
       "\n",
       "  nutrition-score-uk_100g glycemic-index_100g water-hardness_100g  \n",
       "0                     NaN                 NaN                 NaN  \n",
       "1                    14.0                 NaN                 NaN  \n",
       "2                     0.0                 NaN                 NaN  \n",
       "3                    12.0                 NaN                 NaN  \n",
       "4                     NaN                 NaN                 NaN  \n",
       "\n",
       "[5 rows x 163 columns]"
      ]
     },
     "execution_count": 14,
     "metadata": {},
     "output_type": "execute_result"
    }
   ],
   "source": [
    "food_data.head()"
   ]
  },
  {
   "cell_type": "code",
   "execution_count": 15,
   "metadata": {},
   "outputs": [
    {
     "data": {
      "text/plain": [
       "array(['code', 'url', 'creator', 'created_t', 'created_datetime',\n",
       "       'last_modified_t', 'last_modified_datetime', 'product_name',\n",
       "       'generic_name', 'quantity', 'packaging', 'packaging_tags', 'brands',\n",
       "       'brands_tags', 'categories', 'categories_tags', 'categories_en',\n",
       "       'origins', 'origins_tags', 'manufacturing_places',\n",
       "       'manufacturing_places_tags', 'labels', 'labels_tags', 'labels_en',\n",
       "       'emb_codes', 'emb_codes_tags', 'first_packaging_code_geo', 'cities',\n",
       "       'cities_tags', 'purchase_places', 'stores', 'countries',\n",
       "       'countries_tags', 'countries_en', 'ingredients_text', 'allergens',\n",
       "       'allergens_en', 'traces', 'traces_tags', 'traces_en',\n",
       "       'serving_size', 'no_nutriments', 'additives_n', 'additives',\n",
       "       'additives_tags', 'additives_en', 'ingredients_from_palm_oil_n',\n",
       "       'ingredients_from_palm_oil', 'ingredients_from_palm_oil_tags',\n",
       "       'ingredients_that_may_be_from_palm_oil_n',\n",
       "       'ingredients_that_may_be_from_palm_oil',\n",
       "       'ingredients_that_may_be_from_palm_oil_tags', 'nutrition_grade_uk',\n",
       "       'nutrition_grade_fr', 'pnns_groups_1', 'pnns_groups_2', 'states',\n",
       "       'states_tags', 'states_en', 'main_category', 'main_category_en',\n",
       "       'image_url', 'image_small_url', 'energy_100g',\n",
       "       'energy-from-fat_100g', 'fat_100g', 'saturated-fat_100g',\n",
       "       '-butyric-acid_100g', '-caproic-acid_100g', '-caprylic-acid_100g',\n",
       "       '-capric-acid_100g', '-lauric-acid_100g', '-myristic-acid_100g',\n",
       "       '-palmitic-acid_100g', '-stearic-acid_100g', '-arachidic-acid_100g',\n",
       "       '-behenic-acid_100g', '-lignoceric-acid_100g', '-cerotic-acid_100g',\n",
       "       '-montanic-acid_100g', '-melissic-acid_100g',\n",
       "       'monounsaturated-fat_100g', 'polyunsaturated-fat_100g',\n",
       "       'omega-3-fat_100g', '-alpha-linolenic-acid_100g',\n",
       "       '-eicosapentaenoic-acid_100g', '-docosahexaenoic-acid_100g',\n",
       "       'omega-6-fat_100g', '-linoleic-acid_100g', '-arachidonic-acid_100g',\n",
       "       '-gamma-linolenic-acid_100g', '-dihomo-gamma-linolenic-acid_100g',\n",
       "       'omega-9-fat_100g', '-oleic-acid_100g', '-elaidic-acid_100g',\n",
       "       '-gondoic-acid_100g', '-mead-acid_100g', '-erucic-acid_100g',\n",
       "       '-nervonic-acid_100g', 'trans-fat_100g', 'cholesterol_100g',\n",
       "       'carbohydrates_100g', 'sugars_100g', '-sucrose_100g',\n",
       "       '-glucose_100g', '-fructose_100g', '-lactose_100g', '-maltose_100g',\n",
       "       '-maltodextrins_100g', 'starch_100g', 'polyols_100g', 'fiber_100g',\n",
       "       'proteins_100g', 'casein_100g', 'serum-proteins_100g',\n",
       "       'nucleotides_100g', 'salt_100g', 'sodium_100g', 'alcohol_100g',\n",
       "       'vitamin-a_100g', 'beta-carotene_100g', 'vitamin-d_100g',\n",
       "       'vitamin-e_100g', 'vitamin-k_100g', 'vitamin-c_100g',\n",
       "       'vitamin-b1_100g', 'vitamin-b2_100g', 'vitamin-pp_100g',\n",
       "       'vitamin-b6_100g', 'vitamin-b9_100g', 'folates_100g',\n",
       "       'vitamin-b12_100g', 'biotin_100g', 'pantothenic-acid_100g',\n",
       "       'silica_100g', 'bicarbonate_100g', 'potassium_100g',\n",
       "       'chloride_100g', 'calcium_100g', 'phosphorus_100g', 'iron_100g',\n",
       "       'magnesium_100g', 'zinc_100g', 'copper_100g', 'manganese_100g',\n",
       "       'fluoride_100g', 'selenium_100g', 'chromium_100g',\n",
       "       'molybdenum_100g', 'iodine_100g', 'caffeine_100g', 'taurine_100g',\n",
       "       'ph_100g', 'fruits-vegetables-nuts_100g',\n",
       "       'fruits-vegetables-nuts-estimate_100g',\n",
       "       'collagen-meat-protein-ratio_100g', 'cocoa_100g', 'chlorophyl_100g',\n",
       "       'carbon-footprint_100g', 'nutrition-score-fr_100g',\n",
       "       'nutrition-score-uk_100g', 'glycemic-index_100g',\n",
       "       'water-hardness_100g'], dtype=object)"
      ]
     },
     "execution_count": 15,
     "metadata": {},
     "output_type": "execute_result"
    }
   ],
   "source": [
    "food_data.columns.values"
   ]
  },
  {
   "cell_type": "code",
   "execution_count": 16,
   "metadata": {
    "collapsed": true
   },
   "outputs": [],
   "source": [
    "names = ['nutrition-score-fr_100g', 'calcium_100g', 'potassium_100g','vitamin-pp_100g','vitamin-b2_100g','vitamin-b1_100g','vitamin-c_100g','vitamin-a_100g',\n",
    "'sodium_100g', 'salt_100g','iron_100g', 'calcium_100g', 'proteins_100g', 'fiber_100g', 'sugars_100g', 'carbohydrates_100g', 'cholesterol_100g','trans-fat_100g', \n",
    "'polyunsaturated-fat_100g', 'monounsaturated-fat_100g', 'saturated-fat_100g', 'fat_100g', 'energy_100g', 'image_small_url', 'pnns_groups_2', 'pnns_groups_1',\n",
    "'nutrition_grade_fr', 'ingredients_that_may_be_from_palm_oil_tags', 'ingredients_that_may_be_from_palm_oil_n', 'ingredients_from_palm_oil_n', 'additives', 'serving_size', 'traces', \n",
    "'allergens', 'ingredients_text', 'countries', 'stores', 'purchase_places', 'labels',\n",
    "'manufacturing_places', 'origins_tags', 'categories', 'brands', 'packaging', 'quantity', 'generic_name', 'product_name', 'last_modified_datetime', 'created_datetime',\n",
    "'creator', 'code', 'url']"
   ]
  },
  {
   "cell_type": "code",
   "execution_count": 17,
   "metadata": {
    "collapsed": true
   },
   "outputs": [],
   "source": [
    "food_data = food_data[names]"
   ]
  },
  {
   "cell_type": "code",
   "execution_count": 18,
   "metadata": {},
   "outputs": [
    {
     "data": {
      "text/html": [
       "<div>\n",
       "<style>\n",
       "    .dataframe thead tr:only-child th {\n",
       "        text-align: right;\n",
       "    }\n",
       "\n",
       "    .dataframe thead th {\n",
       "        text-align: left;\n",
       "    }\n",
       "\n",
       "    .dataframe tbody tr th {\n",
       "        vertical-align: top;\n",
       "    }\n",
       "</style>\n",
       "<table border=\"1\" class=\"dataframe\">\n",
       "  <thead>\n",
       "    <tr style=\"text-align: right;\">\n",
       "      <th></th>\n",
       "      <th>nutrition-score-fr_100g</th>\n",
       "      <th>calcium_100g</th>\n",
       "      <th>potassium_100g</th>\n",
       "      <th>vitamin-pp_100g</th>\n",
       "      <th>vitamin-b2_100g</th>\n",
       "      <th>vitamin-b1_100g</th>\n",
       "      <th>vitamin-c_100g</th>\n",
       "      <th>vitamin-a_100g</th>\n",
       "      <th>sodium_100g</th>\n",
       "      <th>salt_100g</th>\n",
       "      <th>...</th>\n",
       "      <th>brands</th>\n",
       "      <th>packaging</th>\n",
       "      <th>quantity</th>\n",
       "      <th>generic_name</th>\n",
       "      <th>product_name</th>\n",
       "      <th>last_modified_datetime</th>\n",
       "      <th>created_datetime</th>\n",
       "      <th>creator</th>\n",
       "      <th>code</th>\n",
       "      <th>url</th>\n",
       "    </tr>\n",
       "  </thead>\n",
       "  <tbody>\n",
       "    <tr>\n",
       "      <th>0</th>\n",
       "      <td>NaN</td>\n",
       "      <td>NaN</td>\n",
       "      <td>NaN</td>\n",
       "      <td>NaN</td>\n",
       "      <td>NaN</td>\n",
       "      <td>NaN</td>\n",
       "      <td>NaN</td>\n",
       "      <td>NaN</td>\n",
       "      <td>NaN</td>\n",
       "      <td>NaN</td>\n",
       "      <td>...</td>\n",
       "      <td>Ferme t'y R'nao</td>\n",
       "      <td>NaN</td>\n",
       "      <td>1kg</td>\n",
       "      <td>NaN</td>\n",
       "      <td>Farine de blé noir</td>\n",
       "      <td>2016-09-17T09:18:13Z</td>\n",
       "      <td>2016-09-17T09:17:46Z</td>\n",
       "      <td>openfoodfacts-contributors</td>\n",
       "      <td>3087</td>\n",
       "      <td>http://world-en.openfoodfacts.org/product/0000...</td>\n",
       "    </tr>\n",
       "    <tr>\n",
       "      <th>1</th>\n",
       "      <td>14.0</td>\n",
       "      <td>0.000</td>\n",
       "      <td>NaN</td>\n",
       "      <td>NaN</td>\n",
       "      <td>NaN</td>\n",
       "      <td>NaN</td>\n",
       "      <td>0.0214</td>\n",
       "      <td>0.0</td>\n",
       "      <td>0.000</td>\n",
       "      <td>0.00000</td>\n",
       "      <td>...</td>\n",
       "      <td>NaN</td>\n",
       "      <td>NaN</td>\n",
       "      <td>NaN</td>\n",
       "      <td>NaN</td>\n",
       "      <td>Banana Chips Sweetened (Whole)</td>\n",
       "      <td>2017-03-09T14:32:37Z</td>\n",
       "      <td>2017-03-09T14:32:37Z</td>\n",
       "      <td>usda-ndb-import</td>\n",
       "      <td>4530</td>\n",
       "      <td>http://world-en.openfoodfacts.org/product/0000...</td>\n",
       "    </tr>\n",
       "    <tr>\n",
       "      <th>2</th>\n",
       "      <td>0.0</td>\n",
       "      <td>0.071</td>\n",
       "      <td>NaN</td>\n",
       "      <td>NaN</td>\n",
       "      <td>NaN</td>\n",
       "      <td>NaN</td>\n",
       "      <td>0.0000</td>\n",
       "      <td>0.0</td>\n",
       "      <td>0.250</td>\n",
       "      <td>0.63500</td>\n",
       "      <td>...</td>\n",
       "      <td>Torn &amp; Glasser</td>\n",
       "      <td>NaN</td>\n",
       "      <td>NaN</td>\n",
       "      <td>NaN</td>\n",
       "      <td>Peanuts</td>\n",
       "      <td>2017-03-09T14:32:37Z</td>\n",
       "      <td>2017-03-09T14:32:37Z</td>\n",
       "      <td>usda-ndb-import</td>\n",
       "      <td>4559</td>\n",
       "      <td>http://world-en.openfoodfacts.org/product/0000...</td>\n",
       "    </tr>\n",
       "    <tr>\n",
       "      <th>3</th>\n",
       "      <td>12.0</td>\n",
       "      <td>0.143</td>\n",
       "      <td>NaN</td>\n",
       "      <td>NaN</td>\n",
       "      <td>NaN</td>\n",
       "      <td>NaN</td>\n",
       "      <td>NaN</td>\n",
       "      <td>NaN</td>\n",
       "      <td>0.482</td>\n",
       "      <td>1.22428</td>\n",
       "      <td>...</td>\n",
       "      <td>Grizzlies</td>\n",
       "      <td>NaN</td>\n",
       "      <td>NaN</td>\n",
       "      <td>NaN</td>\n",
       "      <td>Organic Salted Nut Mix</td>\n",
       "      <td>2017-03-09T10:35:31Z</td>\n",
       "      <td>2017-03-09T10:35:31Z</td>\n",
       "      <td>usda-ndb-import</td>\n",
       "      <td>16087</td>\n",
       "      <td>http://world-en.openfoodfacts.org/product/0000...</td>\n",
       "    </tr>\n",
       "    <tr>\n",
       "      <th>4</th>\n",
       "      <td>NaN</td>\n",
       "      <td>NaN</td>\n",
       "      <td>NaN</td>\n",
       "      <td>NaN</td>\n",
       "      <td>NaN</td>\n",
       "      <td>NaN</td>\n",
       "      <td>NaN</td>\n",
       "      <td>NaN</td>\n",
       "      <td>NaN</td>\n",
       "      <td>NaN</td>\n",
       "      <td>...</td>\n",
       "      <td>Bob's Red Mill</td>\n",
       "      <td>NaN</td>\n",
       "      <td>NaN</td>\n",
       "      <td>NaN</td>\n",
       "      <td>Organic Polenta</td>\n",
       "      <td>2017-03-09T10:34:13Z</td>\n",
       "      <td>2017-03-09T10:34:13Z</td>\n",
       "      <td>usda-ndb-import</td>\n",
       "      <td>16094</td>\n",
       "      <td>http://world-en.openfoodfacts.org/product/0000...</td>\n",
       "    </tr>\n",
       "  </tbody>\n",
       "</table>\n",
       "<p>5 rows × 52 columns</p>\n",
       "</div>"
      ],
      "text/plain": [
       "   nutrition-score-fr_100g  calcium_100g  potassium_100g  vitamin-pp_100g  \\\n",
       "0                      NaN           NaN             NaN              NaN   \n",
       "1                     14.0         0.000             NaN              NaN   \n",
       "2                      0.0         0.071             NaN              NaN   \n",
       "3                     12.0         0.143             NaN              NaN   \n",
       "4                      NaN           NaN             NaN              NaN   \n",
       "\n",
       "   vitamin-b2_100g  vitamin-b1_100g  vitamin-c_100g  vitamin-a_100g  \\\n",
       "0              NaN              NaN             NaN             NaN   \n",
       "1              NaN              NaN          0.0214             0.0   \n",
       "2              NaN              NaN          0.0000             0.0   \n",
       "3              NaN              NaN             NaN             NaN   \n",
       "4              NaN              NaN             NaN             NaN   \n",
       "\n",
       "   sodium_100g  salt_100g                        ...                          \\\n",
       "0          NaN        NaN                        ...                           \n",
       "1        0.000    0.00000                        ...                           \n",
       "2        0.250    0.63500                        ...                           \n",
       "3        0.482    1.22428                        ...                           \n",
       "4          NaN        NaN                        ...                           \n",
       "\n",
       "            brands  packaging  quantity  generic_name  \\\n",
       "0  Ferme t'y R'nao        NaN       1kg           NaN   \n",
       "1              NaN        NaN       NaN           NaN   \n",
       "2   Torn & Glasser        NaN       NaN           NaN   \n",
       "3        Grizzlies        NaN       NaN           NaN   \n",
       "4   Bob's Red Mill        NaN       NaN           NaN   \n",
       "\n",
       "                     product_name  last_modified_datetime  \\\n",
       "0              Farine de blé noir    2016-09-17T09:18:13Z   \n",
       "1  Banana Chips Sweetened (Whole)    2017-03-09T14:32:37Z   \n",
       "2                         Peanuts    2017-03-09T14:32:37Z   \n",
       "3          Organic Salted Nut Mix    2017-03-09T10:35:31Z   \n",
       "4                 Organic Polenta    2017-03-09T10:34:13Z   \n",
       "\n",
       "       created_datetime                     creator   code  \\\n",
       "0  2016-09-17T09:17:46Z  openfoodfacts-contributors   3087   \n",
       "1  2017-03-09T14:32:37Z             usda-ndb-import   4530   \n",
       "2  2017-03-09T14:32:37Z             usda-ndb-import   4559   \n",
       "3  2017-03-09T10:35:31Z             usda-ndb-import  16087   \n",
       "4  2017-03-09T10:34:13Z             usda-ndb-import  16094   \n",
       "\n",
       "                                                 url  \n",
       "0  http://world-en.openfoodfacts.org/product/0000...  \n",
       "1  http://world-en.openfoodfacts.org/product/0000...  \n",
       "2  http://world-en.openfoodfacts.org/product/0000...  \n",
       "3  http://world-en.openfoodfacts.org/product/0000...  \n",
       "4  http://world-en.openfoodfacts.org/product/0000...  \n",
       "\n",
       "[5 rows x 52 columns]"
      ]
     },
     "execution_count": 18,
     "metadata": {},
     "output_type": "execute_result"
    }
   ],
   "source": [
    "food_data.head()"
   ]
  },
  {
   "cell_type": "code",
   "execution_count": 19,
   "metadata": {},
   "outputs": [
    {
     "data": {
      "text/plain": [
       "(356027, 52)"
      ]
     },
     "execution_count": 19,
     "metadata": {},
     "output_type": "execute_result"
    }
   ],
   "source": [
    "food_data.shape"
   ]
  },
  {
   "cell_type": "markdown",
   "metadata": {},
   "source": [
    "The first reduction brings as to 52 columns, but a lot of the columns contain missing values."
   ]
  },
  {
   "cell_type": "code",
   "execution_count": 20,
   "metadata": {
    "collapsed": true
   },
   "outputs": [],
   "source": [
    "gaps = food_data.isnull().sum()"
   ]
  },
  {
   "cell_type": "code",
   "execution_count": 21,
   "metadata": {
    "collapsed": true
   },
   "outputs": [],
   "source": [
    "gaps = gaps.sort_values()"
   ]
  },
  {
   "cell_type": "code",
   "execution_count": 22,
   "metadata": {},
   "outputs": [
    {
     "data": {
      "text/plain": [
       "last_modified_datetime                             0\n",
       "creator                                            3\n",
       "created_datetime                                  10\n",
       "url                                               26\n",
       "code                                              26\n",
       "countries                                        275\n",
       "product_name                                   17512\n",
       "brands                                         29050\n",
       "energy_100g                                    60660\n",
       "proteins_100g                                  61866\n",
       "salt_100g                                      66288\n",
       "sodium_100g                                    66333\n",
       "ingredients_text                               72134\n",
       "ingredients_from_palm_oil_n                    72160\n",
       "ingredients_that_may_be_from_palm_oil_n        72160\n",
       "additives                                      72202\n",
       "fat_100g                                       76530\n",
       "carbohydrates_100g                             76807\n",
       "sugars_100g                                    76841\n",
       "saturated-fat_100g                             92204\n",
       "nutrition_grade_fr                            101171\n",
       "nutrition-score-fr_100g                       101171\n",
       "fiber_100g                                    135344\n",
       "serving_size                                  139406\n",
       "cholesterol_100g                              211857\n",
       "trans-fat_100g                                212584\n",
       "calcium_100g                                  214510\n",
       "calcium_100g                                  214510\n",
       "vitamin-c_100g                                214967\n",
       "iron_100g                                     215367\n",
       "vitamin-a_100g                                218321\n",
       "pnns_groups_2                                 223338\n",
       "pnns_groups_1                                 227021\n",
       "quantity                                      236742\n",
       "categories                                    252728\n",
       "packaging                                     266067\n",
       "image_small_url                               280302\n",
       "purchase_places                               289462\n",
       "labels                                        296929\n",
       "generic_name                                  298313\n",
       "stores                                        298326\n",
       "manufacturing_places                          314019\n",
       "allergens                                     318851\n",
       "traces                                        327606\n",
       "origins_tags                                  331015\n",
       "potassium_100g                                331179\n",
       "polyunsaturated-fat_100g                      332952\n",
       "monounsaturated-fat_100g                      332987\n",
       "ingredients_that_may_be_from_palm_oil_tags    341699\n",
       "vitamin-pp_100g                               344196\n",
       "vitamin-b1_100g                               344750\n",
       "vitamin-b2_100g                               345102\n",
       "dtype: int64"
      ]
     },
     "execution_count": 22,
     "metadata": {},
     "output_type": "execute_result"
    }
   ],
   "source": [
    "gaps"
   ]
  },
  {
   "cell_type": "markdown",
   "metadata": {},
   "source": [
    "We create a new variable named gaps, that sums the NAN values, after that the values are being sorted in an ascending order. Some of the foods don't contain the present ingredients, so this could be the reason for their absence."
   ]
  },
  {
   "cell_type": "code",
   "execution_count": 23,
   "metadata": {
    "collapsed": true
   },
   "outputs": [],
   "source": [
    "gaps = gaps[gaps < 101172]"
   ]
  },
  {
   "cell_type": "code",
   "execution_count": 24,
   "metadata": {
    "collapsed": true
   },
   "outputs": [],
   "source": [
    "names2 = gaps.index"
   ]
  },
  {
   "cell_type": "code",
   "execution_count": 25,
   "metadata": {
    "collapsed": true
   },
   "outputs": [],
   "source": [
    "food_data = food_data[names2]"
   ]
  },
  {
   "cell_type": "code",
   "execution_count": 26,
   "metadata": {},
   "outputs": [
    {
     "data": {
      "text/plain": [
       "(356027, 22)"
      ]
     },
     "execution_count": 26,
     "metadata": {},
     "output_type": "execute_result"
    }
   ],
   "source": [
    "food_data.shape"
   ]
  },
  {
   "cell_type": "markdown",
   "metadata": {},
   "source": [
    "We choose to remove the columns that have more then 101172 NAN values and place them in the new variable names2. Due to the fact that the file remains large with 22 columns and 356027 rows, lets make a sample containing only the first 10000 rows to speed the computational process. The data is exported to a food.csv file it is commented out on purpose."
   ]
  },
  {
   "cell_type": "code",
   "execution_count": 27,
   "metadata": {
    "collapsed": true
   },
   "outputs": [],
   "source": [
    "food_data = food_data.head(10000)"
   ]
  },
  {
   "cell_type": "code",
   "execution_count": 28,
   "metadata": {
    "collapsed": true
   },
   "outputs": [],
   "source": [
    "#food_data.to_csv('food.csv', sep='\\t')"
   ]
  },
  {
   "cell_type": "code",
   "execution_count": 29,
   "metadata": {},
   "outputs": [
    {
     "data": {
      "text/html": [
       "<div>\n",
       "<style>\n",
       "    .dataframe thead tr:only-child th {\n",
       "        text-align: right;\n",
       "    }\n",
       "\n",
       "    .dataframe thead th {\n",
       "        text-align: left;\n",
       "    }\n",
       "\n",
       "    .dataframe tbody tr th {\n",
       "        vertical-align: top;\n",
       "    }\n",
       "</style>\n",
       "<table border=\"1\" class=\"dataframe\">\n",
       "  <thead>\n",
       "    <tr style=\"text-align: right;\">\n",
       "      <th></th>\n",
       "      <th>last_modified_datetime</th>\n",
       "      <th>creator</th>\n",
       "      <th>created_datetime</th>\n",
       "      <th>url</th>\n",
       "      <th>code</th>\n",
       "      <th>countries</th>\n",
       "      <th>product_name</th>\n",
       "      <th>brands</th>\n",
       "      <th>energy_100g</th>\n",
       "      <th>proteins_100g</th>\n",
       "      <th>...</th>\n",
       "      <th>ingredients_text</th>\n",
       "      <th>ingredients_from_palm_oil_n</th>\n",
       "      <th>ingredients_that_may_be_from_palm_oil_n</th>\n",
       "      <th>additives</th>\n",
       "      <th>fat_100g</th>\n",
       "      <th>carbohydrates_100g</th>\n",
       "      <th>sugars_100g</th>\n",
       "      <th>saturated-fat_100g</th>\n",
       "      <th>nutrition_grade_fr</th>\n",
       "      <th>nutrition-score-fr_100g</th>\n",
       "    </tr>\n",
       "  </thead>\n",
       "  <tbody>\n",
       "    <tr>\n",
       "      <th>0</th>\n",
       "      <td>2016-09-17T09:18:13Z</td>\n",
       "      <td>openfoodfacts-contributors</td>\n",
       "      <td>2016-09-17T09:17:46Z</td>\n",
       "      <td>http://world-en.openfoodfacts.org/product/0000...</td>\n",
       "      <td>3087</td>\n",
       "      <td>en:FR</td>\n",
       "      <td>Farine de blé noir</td>\n",
       "      <td>Ferme t'y R'nao</td>\n",
       "      <td>NaN</td>\n",
       "      <td>NaN</td>\n",
       "      <td>...</td>\n",
       "      <td>NaN</td>\n",
       "      <td>NaN</td>\n",
       "      <td>NaN</td>\n",
       "      <td>NaN</td>\n",
       "      <td>NaN</td>\n",
       "      <td>NaN</td>\n",
       "      <td>NaN</td>\n",
       "      <td>NaN</td>\n",
       "      <td>NaN</td>\n",
       "      <td>NaN</td>\n",
       "    </tr>\n",
       "    <tr>\n",
       "      <th>1</th>\n",
       "      <td>2017-03-09T14:32:37Z</td>\n",
       "      <td>usda-ndb-import</td>\n",
       "      <td>2017-03-09T14:32:37Z</td>\n",
       "      <td>http://world-en.openfoodfacts.org/product/0000...</td>\n",
       "      <td>4530</td>\n",
       "      <td>US</td>\n",
       "      <td>Banana Chips Sweetened (Whole)</td>\n",
       "      <td>NaN</td>\n",
       "      <td>2243.0</td>\n",
       "      <td>3.57</td>\n",
       "      <td>...</td>\n",
       "      <td>Bananas, vegetable oil (coconut oil, corn oil ...</td>\n",
       "      <td>0.0</td>\n",
       "      <td>0.0</td>\n",
       "      <td>[ bananas -&gt; en:bananas  ]  [ vegetable-oil -...</td>\n",
       "      <td>28.57</td>\n",
       "      <td>64.29</td>\n",
       "      <td>14.29</td>\n",
       "      <td>28.57</td>\n",
       "      <td>d</td>\n",
       "      <td>14.0</td>\n",
       "    </tr>\n",
       "    <tr>\n",
       "      <th>2</th>\n",
       "      <td>2017-03-09T14:32:37Z</td>\n",
       "      <td>usda-ndb-import</td>\n",
       "      <td>2017-03-09T14:32:37Z</td>\n",
       "      <td>http://world-en.openfoodfacts.org/product/0000...</td>\n",
       "      <td>4559</td>\n",
       "      <td>US</td>\n",
       "      <td>Peanuts</td>\n",
       "      <td>Torn &amp; Glasser</td>\n",
       "      <td>1941.0</td>\n",
       "      <td>17.86</td>\n",
       "      <td>...</td>\n",
       "      <td>Peanuts, wheat flour, sugar, rice flour, tapio...</td>\n",
       "      <td>0.0</td>\n",
       "      <td>0.0</td>\n",
       "      <td>[ peanuts -&gt; en:peanuts  ]  [ wheat-flour -&gt; ...</td>\n",
       "      <td>17.86</td>\n",
       "      <td>60.71</td>\n",
       "      <td>17.86</td>\n",
       "      <td>0.00</td>\n",
       "      <td>b</td>\n",
       "      <td>0.0</td>\n",
       "    </tr>\n",
       "    <tr>\n",
       "      <th>3</th>\n",
       "      <td>2017-03-09T10:35:31Z</td>\n",
       "      <td>usda-ndb-import</td>\n",
       "      <td>2017-03-09T10:35:31Z</td>\n",
       "      <td>http://world-en.openfoodfacts.org/product/0000...</td>\n",
       "      <td>16087</td>\n",
       "      <td>US</td>\n",
       "      <td>Organic Salted Nut Mix</td>\n",
       "      <td>Grizzlies</td>\n",
       "      <td>2540.0</td>\n",
       "      <td>17.86</td>\n",
       "      <td>...</td>\n",
       "      <td>Organic hazelnuts, organic cashews, organic wa...</td>\n",
       "      <td>0.0</td>\n",
       "      <td>0.0</td>\n",
       "      <td>[ organic-hazelnuts -&gt; en:organic-hazelnuts  ...</td>\n",
       "      <td>57.14</td>\n",
       "      <td>17.86</td>\n",
       "      <td>3.57</td>\n",
       "      <td>5.36</td>\n",
       "      <td>d</td>\n",
       "      <td>12.0</td>\n",
       "    </tr>\n",
       "    <tr>\n",
       "      <th>4</th>\n",
       "      <td>2017-03-09T10:34:13Z</td>\n",
       "      <td>usda-ndb-import</td>\n",
       "      <td>2017-03-09T10:34:13Z</td>\n",
       "      <td>http://world-en.openfoodfacts.org/product/0000...</td>\n",
       "      <td>16094</td>\n",
       "      <td>US</td>\n",
       "      <td>Organic Polenta</td>\n",
       "      <td>Bob's Red Mill</td>\n",
       "      <td>1552.0</td>\n",
       "      <td>8.57</td>\n",
       "      <td>...</td>\n",
       "      <td>Organic polenta</td>\n",
       "      <td>0.0</td>\n",
       "      <td>0.0</td>\n",
       "      <td>[ organic-polenta -&gt; en:organic-polenta  ]  [...</td>\n",
       "      <td>1.43</td>\n",
       "      <td>77.14</td>\n",
       "      <td>NaN</td>\n",
       "      <td>NaN</td>\n",
       "      <td>NaN</td>\n",
       "      <td>NaN</td>\n",
       "    </tr>\n",
       "  </tbody>\n",
       "</table>\n",
       "<p>5 rows × 22 columns</p>\n",
       "</div>"
      ],
      "text/plain": [
       "  last_modified_datetime                     creator      created_datetime  \\\n",
       "0   2016-09-17T09:18:13Z  openfoodfacts-contributors  2016-09-17T09:17:46Z   \n",
       "1   2017-03-09T14:32:37Z             usda-ndb-import  2017-03-09T14:32:37Z   \n",
       "2   2017-03-09T14:32:37Z             usda-ndb-import  2017-03-09T14:32:37Z   \n",
       "3   2017-03-09T10:35:31Z             usda-ndb-import  2017-03-09T10:35:31Z   \n",
       "4   2017-03-09T10:34:13Z             usda-ndb-import  2017-03-09T10:34:13Z   \n",
       "\n",
       "                                                 url   code countries  \\\n",
       "0  http://world-en.openfoodfacts.org/product/0000...   3087     en:FR   \n",
       "1  http://world-en.openfoodfacts.org/product/0000...   4530        US   \n",
       "2  http://world-en.openfoodfacts.org/product/0000...   4559        US   \n",
       "3  http://world-en.openfoodfacts.org/product/0000...  16087        US   \n",
       "4  http://world-en.openfoodfacts.org/product/0000...  16094        US   \n",
       "\n",
       "                     product_name           brands  energy_100g  \\\n",
       "0              Farine de blé noir  Ferme t'y R'nao          NaN   \n",
       "1  Banana Chips Sweetened (Whole)              NaN       2243.0   \n",
       "2                         Peanuts   Torn & Glasser       1941.0   \n",
       "3          Organic Salted Nut Mix        Grizzlies       2540.0   \n",
       "4                 Organic Polenta   Bob's Red Mill       1552.0   \n",
       "\n",
       "   proteins_100g           ...             \\\n",
       "0            NaN           ...              \n",
       "1           3.57           ...              \n",
       "2          17.86           ...              \n",
       "3          17.86           ...              \n",
       "4           8.57           ...              \n",
       "\n",
       "                                    ingredients_text  \\\n",
       "0                                                NaN   \n",
       "1  Bananas, vegetable oil (coconut oil, corn oil ...   \n",
       "2  Peanuts, wheat flour, sugar, rice flour, tapio...   \n",
       "3  Organic hazelnuts, organic cashews, organic wa...   \n",
       "4                                    Organic polenta   \n",
       "\n",
       "   ingredients_from_palm_oil_n ingredients_that_may_be_from_palm_oil_n  \\\n",
       "0                          NaN                                     NaN   \n",
       "1                          0.0                                     0.0   \n",
       "2                          0.0                                     0.0   \n",
       "3                          0.0                                     0.0   \n",
       "4                          0.0                                     0.0   \n",
       "\n",
       "                                           additives  fat_100g  \\\n",
       "0                                                NaN       NaN   \n",
       "1   [ bananas -> en:bananas  ]  [ vegetable-oil -...     28.57   \n",
       "2   [ peanuts -> en:peanuts  ]  [ wheat-flour -> ...     17.86   \n",
       "3   [ organic-hazelnuts -> en:organic-hazelnuts  ...     57.14   \n",
       "4   [ organic-polenta -> en:organic-polenta  ]  [...      1.43   \n",
       "\n",
       "  carbohydrates_100g  sugars_100g  saturated-fat_100g  nutrition_grade_fr  \\\n",
       "0                NaN          NaN                 NaN                 NaN   \n",
       "1              64.29        14.29               28.57                   d   \n",
       "2              60.71        17.86                0.00                   b   \n",
       "3              17.86         3.57                5.36                   d   \n",
       "4              77.14          NaN                 NaN                 NaN   \n",
       "\n",
       "   nutrition-score-fr_100g  \n",
       "0                      NaN  \n",
       "1                     14.0  \n",
       "2                      0.0  \n",
       "3                     12.0  \n",
       "4                      NaN  \n",
       "\n",
       "[5 rows x 22 columns]"
      ]
     },
     "execution_count": 29,
     "metadata": {},
     "output_type": "execute_result"
    }
   ],
   "source": [
    "food_data.head()"
   ]
  },
  {
   "cell_type": "markdown",
   "metadata": {},
   "source": [
    "### Correlation Analysis"
   ]
  },
  {
   "cell_type": "code",
   "execution_count": 30,
   "metadata": {},
   "outputs": [
    {
     "data": {
      "text/plain": [
       "<matplotlib.axes._subplots.AxesSubplot at 0x170247642e8>"
      ]
     },
     "execution_count": 30,
     "metadata": {},
     "output_type": "execute_result"
    },
    {
     "data": {
      "image/png": "[encoded data removed]",
      "text/plain": [
       "<matplotlib.figure.Figure at 0x16f9f95ccf8>"
      ]
     },
     "metadata": {},
     "output_type": "display_data"
    }
   ],
   "source": [
    "plt.figure(figsize=(20,10))\n",
    "sns.heatmap(food_data.corr(), annot = True)"
   ]
  },
  {
   "cell_type": "markdown",
   "metadata": {},
   "source": [
    "We have created a heatmap with the correlation matrix, some of the variables are interchangeable, which have a correlation coefficient of 1 like salt and sodium. One of it is derived by the other. Now we will use scatter plot to view the data points with high correlation coefficients."
   ]
  },
  {
   "cell_type": "code",
   "execution_count": 31,
   "metadata": {},
   "outputs": [
    {
     "data": {
      "text/plain": [
       "Text(0,0.5,'nutrition-score-fr_100g')"
      ]
     },
     "execution_count": 31,
     "metadata": {},
     "output_type": "execute_result"
    },
    {
     "data": {
      "image/png": "[encoded data removed]",
      "text/plain": [
       "<matplotlib.figure.Figure at 0x16f96a82940>"
      ]
     },
     "metadata": {},
     "output_type": "display_data"
    }
   ],
   "source": [
    "plt.scatter(food_data['energy_100g'], food_data['nutrition-score-fr_100g'])\n",
    "plt.xlabel('energy_100g')\n",
    "plt.ylabel('nutrition-score-fr_100g')"
   ]
  },
  {
   "cell_type": "markdown",
   "metadata": {},
   "source": [
    "There is definitely a link here between the variables."
   ]
  },
  {
   "cell_type": "code",
   "execution_count": 32,
   "metadata": {},
   "outputs": [
    {
     "data": {
      "text/plain": [
       "Text(0,0.5,'fat_100g')"
      ]
     },
     "execution_count": 32,
     "metadata": {},
     "output_type": "execute_result"
    },
    {
     "data": {
      "image/png": "[encoded data removed]",
      "text/plain": [
       "<matplotlib.figure.Figure at 0x17024764630>"
      ]
     },
     "metadata": {},
     "output_type": "display_data"
    }
   ],
   "source": [
    "plt.scatter(food_data['energy_100g'], food_data['fat_100g'])\n",
    "plt.xlabel('energy_100g')\n",
    "plt.ylabel('fat_100g')"
   ]
  },
  {
   "cell_type": "markdown",
   "metadata": {},
   "source": [
    "Here we have some outliers in the bottom right and the upper left, but still there is a link in the majority of the variables."
   ]
  },
  {
   "cell_type": "code",
   "execution_count": 33,
   "metadata": {},
   "outputs": [
    {
     "data": {
      "text/plain": [
       "Text(0,0.5,'fat_100g')"
      ]
     },
     "execution_count": 33,
     "metadata": {},
     "output_type": "execute_result"
    },
    {
     "data": {
      "image/png": "[encoded data removed]",
      "text/plain": [
       "<matplotlib.figure.Figure at 0x16f98ab12e8>"
      ]
     },
     "metadata": {},
     "output_type": "display_data"
    }
   ],
   "source": [
    "plt.scatter(food_data['saturated-fat_100g'], food_data['fat_100g'])\n",
    "plt.xlabel('saturated-fat_100g')\n",
    "plt.ylabel('fat_100g')"
   ]
  },
  {
   "cell_type": "markdown",
   "metadata": {},
   "source": [
    "There is some connection in the beginning near the start of the coordinate system, but later there seems to be a dispersal of the points. This is a sing of Heteroscedasticity. For more information you can read here http://www.statsmakemecry.com/smmctheblog/confusing-stats-terms-explained-heteroscedasticity-heteroske.html"
   ]
  },
  {
   "cell_type": "code",
   "execution_count": 34,
   "metadata": {},
   "outputs": [
    {
     "data": {
      "text/plain": [
       "Text(0,0.5,'carbohydrates_100g')"
      ]
     },
     "execution_count": 34,
     "metadata": {},
     "output_type": "execute_result"
    },
    {
     "data": {
      "image/png": "[encoded data removed]",
      "text/plain": [
       "<matplotlib.figure.Figure at 0x16f98aede10>"
      ]
     },
     "metadata": {},
     "output_type": "display_data"
    }
   ],
   "source": [
    "plt.scatter(food_data['sugars_100g'], food_data['carbohydrates_100g'])\n",
    "plt.xlabel('sugars_100g')\n",
    "plt.ylabel('carbohydrates_100g')"
   ]
  },
  {
   "cell_type": "markdown",
   "metadata": {},
   "source": [
    "The last one is interesting with the exception of an outlier near 20 part of the x-axis all the data is from the left of the scatter plot, there seems also like the case above to be a declining link between the 2 when the values increase."
   ]
  },
  {
   "cell_type": "markdown",
   "metadata": {},
   "source": [
    "### EDA - grouping and plotting"
   ]
  },
  {
   "cell_type": "code",
   "execution_count": 35,
   "metadata": {},
   "outputs": [
    {
     "data": {
      "text/plain": [
       "Text(0.5,1,'Sugars per 100g histogram')"
      ]
     },
     "execution_count": 35,
     "metadata": {},
     "output_type": "execute_result"
    },
    {
     "data": {
      "image/png": "[encoded data removed]",
      "text/plain": [
       "<matplotlib.figure.Figure at 0x16f98b51278>"
      ]
     },
     "metadata": {},
     "output_type": "display_data"
    }
   ],
   "source": [
    "plt.hist(food_data['sugars_100g'].dropna())\n",
    "plt.title('Sugars per 100g histogram')"
   ]
  },
  {
   "cell_type": "markdown",
   "metadata": {},
   "source": [
    "The distribution is definitely not normal, it seems more like exponential distribution for more information check here: http://www.statisticshowto.com/exponential-distribution/ or log normal distribution see here: http://www.statisticshowto.com/lognormal-distribution/"
   ]
  },
  {
   "cell_type": "code",
   "execution_count": 42,
   "metadata": {},
   "outputs": [
    {
     "data": {
      "text/plain": [
       "1.5919986030245741"
      ]
     },
     "execution_count": 42,
     "metadata": {},
     "output_type": "execute_result"
    }
   ],
   "source": [
    "food_data['sugars_100g'].skew()"
   ]
  },
  {
   "cell_type": "markdown",
   "metadata": {},
   "source": [
    "First plotting the sugars_100g data we see it is skewed to the right, the skewness coefficient confirms the observation."
   ]
  },
  {
   "cell_type": "code",
   "execution_count": 36,
   "metadata": {},
   "outputs": [
    {
     "data": {
      "text/plain": [
       "Text(0.5,1,'Sugars per 100g histogram 20 bins')"
      ]
     },
     "execution_count": 36,
     "metadata": {},
     "output_type": "execute_result"
    },
    {
     "data": {
      "image/png": "[encoded data removed]",
      "text/plain": [
       "<matplotlib.figure.Figure at 0x16f98b6b198>"
      ]
     },
     "metadata": {},
     "output_type": "display_data"
    }
   ],
   "source": [
    "plt.hist(food_data['sugars_100g'].dropna(), bins = 20)\n",
    "plt.title('Sugars per 100g histogram 20 bins')"
   ]
  },
  {
   "cell_type": "code",
   "execution_count": 37,
   "metadata": {},
   "outputs": [
    {
     "data": {
      "text/plain": [
       "Text(0.5,1,'carbohydrates_100g histogram 20 bins')"
      ]
     },
     "execution_count": 37,
     "metadata": {},
     "output_type": "execute_result"
    },
    {
     "data": {
      "image/png": "[encoded data removed]",
      "text/plain": [
       "<matplotlib.figure.Figure at 0x16f98c28978>"
      ]
     },
     "metadata": {},
     "output_type": "display_data"
    }
   ],
   "source": [
    "plt.hist(food_data['carbohydrates_100g'].dropna(), bins = 20)\n",
    "plt.title('carbohydrates_100g histogram 20 bins')"
   ]
  },
  {
   "cell_type": "code",
   "execution_count": 43,
   "metadata": {},
   "outputs": [
    {
     "data": {
      "text/plain": [
       "0.49806600679389967"
      ]
     },
     "execution_count": 43,
     "metadata": {},
     "output_type": "execute_result"
    }
   ],
   "source": [
    "food_data['carbohydrates_100g'].skew()"
   ]
  },
  {
   "cell_type": "markdown",
   "metadata": {},
   "source": [
    "The carbohydrates per 100g are less skewed compared to the sugars per 100g."
   ]
  },
  {
   "cell_type": "code",
   "execution_count": 38,
   "metadata": {},
   "outputs": [
    {
     "data": {
      "text/plain": [
       "Text(0.5,1,'saturated-fat_100g histogram 20 bins')"
      ]
     },
     "execution_count": 38,
     "metadata": {},
     "output_type": "execute_result"
    },
    {
     "data": {
      "image/png": "[encoded data removed]",
      "text/plain": [
       "<matplotlib.figure.Figure at 0x16f98cac550>"
      ]
     },
     "metadata": {},
     "output_type": "display_data"
    }
   ],
   "source": [
    "plt.hist(food_data['saturated-fat_100g'].dropna(), bins = 20)\n",
    "plt.title('saturated-fat_100g histogram 20 bins')"
   ]
  },
  {
   "cell_type": "code",
   "execution_count": 44,
   "metadata": {},
   "outputs": [
    {
     "data": {
      "text/plain": [
       "3.2270638695002658"
      ]
     },
     "execution_count": 44,
     "metadata": {},
     "output_type": "execute_result"
    }
   ],
   "source": [
    "food_data['saturated-fat_100g'].skew()"
   ]
  },
  {
   "cell_type": "markdown",
   "metadata": {},
   "source": [
    "The saturated fat per 100g is very highly skewed."
   ]
  },
  {
   "cell_type": "code",
   "execution_count": 39,
   "metadata": {},
   "outputs": [
    {
     "data": {
      "text/plain": [
       "Text(0.5,1,'energy_100g histogram 20 bins')"
      ]
     },
     "execution_count": 39,
     "metadata": {},
     "output_type": "execute_result"
    },
    {
     "data": {
      "image/png": "[encoded data removed]",
      "text/plain": [
       "<matplotlib.figure.Figure at 0x16f98ccc1d0>"
      ]
     },
     "metadata": {},
     "output_type": "display_data"
    }
   ],
   "source": [
    "plt.hist(food_data['energy_100g'].dropna(), bins = 20)\n",
    "plt.title('energy_100g histogram 20 bins')"
   ]
  },
  {
   "cell_type": "code",
   "execution_count": 45,
   "metadata": {},
   "outputs": [
    {
     "data": {
      "text/plain": [
       "0.42197135739831415"
      ]
     },
     "execution_count": 45,
     "metadata": {},
     "output_type": "execute_result"
    }
   ],
   "source": [
    "food_data['energy_100g'].skew()"
   ]
  },
  {
   "cell_type": "markdown",
   "metadata": {},
   "source": [
    "We have similar situation with the carbohydrates."
   ]
  },
  {
   "cell_type": "code",
   "execution_count": 105,
   "metadata": {
    "collapsed": true
   },
   "outputs": [],
   "source": [
    "counties_food = food_data.groupby(food_data['countries'], axis=0).mean()"
   ]
  },
  {
   "cell_type": "code",
   "execution_count": 106,
   "metadata": {},
   "outputs": [
    {
     "data": {
      "text/html": [
       "<div>\n",
       "<style>\n",
       "    .dataframe thead tr:only-child th {\n",
       "        text-align: right;\n",
       "    }\n",
       "\n",
       "    .dataframe thead th {\n",
       "        text-align: left;\n",
       "    }\n",
       "\n",
       "    .dataframe tbody tr th {\n",
       "        vertical-align: top;\n",
       "    }\n",
       "</style>\n",
       "<table border=\"1\" class=\"dataframe\">\n",
       "  <thead>\n",
       "    <tr style=\"text-align: right;\">\n",
       "      <th></th>\n",
       "      <th>energy_100g</th>\n",
       "      <th>proteins_100g</th>\n",
       "      <th>salt_100g</th>\n",
       "      <th>sodium_100g</th>\n",
       "      <th>ingredients_from_palm_oil_n</th>\n",
       "      <th>ingredients_that_may_be_from_palm_oil_n</th>\n",
       "      <th>fat_100g</th>\n",
       "      <th>carbohydrates_100g</th>\n",
       "      <th>sugars_100g</th>\n",
       "      <th>saturated-fat_100g</th>\n",
       "      <th>nutrition-score-fr_100g</th>\n",
       "    </tr>\n",
       "    <tr>\n",
       "      <th>countries</th>\n",
       "      <th></th>\n",
       "      <th></th>\n",
       "      <th></th>\n",
       "      <th></th>\n",
       "      <th></th>\n",
       "      <th></th>\n",
       "      <th></th>\n",
       "      <th></th>\n",
       "      <th></th>\n",
       "      <th></th>\n",
       "      <th></th>\n",
       "    </tr>\n",
       "  </thead>\n",
       "  <tbody>\n",
       "    <tr>\n",
       "      <th>Australia</th>\n",
       "      <td>NaN</td>\n",
       "      <td>NaN</td>\n",
       "      <td>NaN</td>\n",
       "      <td>NaN</td>\n",
       "      <td>NaN</td>\n",
       "      <td>NaN</td>\n",
       "      <td>NaN</td>\n",
       "      <td>NaN</td>\n",
       "      <td>NaN</td>\n",
       "      <td>NaN</td>\n",
       "      <td>NaN</td>\n",
       "    </tr>\n",
       "    <tr>\n",
       "      <th>Australie,Belgique,Suisse</th>\n",
       "      <td>419.000000</td>\n",
       "      <td>1.50</td>\n",
       "      <td>6.0000</td>\n",
       "      <td>2.362205</td>\n",
       "      <td>NaN</td>\n",
       "      <td>NaN</td>\n",
       "      <td>0.40</td>\n",
       "      <td>22.60</td>\n",
       "      <td>20.8000</td>\n",
       "      <td>0.10000</td>\n",
       "      <td>12.0</td>\n",
       "    </tr>\n",
       "    <tr>\n",
       "      <th>Belgique,France</th>\n",
       "      <td>46.000000</td>\n",
       "      <td>0.60</td>\n",
       "      <td>7.4000</td>\n",
       "      <td>2.913386</td>\n",
       "      <td>0.0</td>\n",
       "      <td>0.0</td>\n",
       "      <td>0.00</td>\n",
       "      <td>1.80</td>\n",
       "      <td>0.0000</td>\n",
       "      <td>0.00000</td>\n",
       "      <td>9.0</td>\n",
       "    </tr>\n",
       "    <tr>\n",
       "      <th>Belgique,France,Pays-Bas,Royaume-Uni</th>\n",
       "      <td>1309.500000</td>\n",
       "      <td>9.95</td>\n",
       "      <td>0.8050</td>\n",
       "      <td>0.316929</td>\n",
       "      <td>0.0</td>\n",
       "      <td>0.0</td>\n",
       "      <td>15.25</td>\n",
       "      <td>33.05</td>\n",
       "      <td>16.2500</td>\n",
       "      <td>8.45000</td>\n",
       "      <td>11.5</td>\n",
       "    </tr>\n",
       "    <tr>\n",
       "      <th>Canada</th>\n",
       "      <td>1034.833333</td>\n",
       "      <td>13.23</td>\n",
       "      <td>1.0805</td>\n",
       "      <td>0.425500</td>\n",
       "      <td>0.0</td>\n",
       "      <td>0.2</td>\n",
       "      <td>9.20</td>\n",
       "      <td>32.26</td>\n",
       "      <td>10.9248</td>\n",
       "      <td>3.04825</td>\n",
       "      <td>4.5</td>\n",
       "    </tr>\n",
       "  </tbody>\n",
       "</table>\n",
       "</div>"
      ],
      "text/plain": [
       "                                      energy_100g  proteins_100g  salt_100g  \\\n",
       "countries                                                                     \n",
       "Australia                                     NaN            NaN        NaN   \n",
       "Australie,Belgique,Suisse              419.000000           1.50     6.0000   \n",
       "Belgique,France                         46.000000           0.60     7.4000   \n",
       "Belgique,France,Pays-Bas,Royaume-Uni  1309.500000           9.95     0.8050   \n",
       "Canada                                1034.833333          13.23     1.0805   \n",
       "\n",
       "                                      sodium_100g  \\\n",
       "countries                                           \n",
       "Australia                                     NaN   \n",
       "Australie,Belgique,Suisse                2.362205   \n",
       "Belgique,France                          2.913386   \n",
       "Belgique,France,Pays-Bas,Royaume-Uni     0.316929   \n",
       "Canada                                   0.425500   \n",
       "\n",
       "                                      ingredients_from_palm_oil_n  \\\n",
       "countries                                                           \n",
       "Australia                                                     NaN   \n",
       "Australie,Belgique,Suisse                                     NaN   \n",
       "Belgique,France                                               0.0   \n",
       "Belgique,France,Pays-Bas,Royaume-Uni                          0.0   \n",
       "Canada                                                        0.0   \n",
       "\n",
       "                                      ingredients_that_may_be_from_palm_oil_n  \\\n",
       "countries                                                                       \n",
       "Australia                                                                 NaN   \n",
       "Australie,Belgique,Suisse                                                 NaN   \n",
       "Belgique,France                                                           0.0   \n",
       "Belgique,France,Pays-Bas,Royaume-Uni                                      0.0   \n",
       "Canada                                                                    0.2   \n",
       "\n",
       "                                      fat_100g  carbohydrates_100g  \\\n",
       "countries                                                            \n",
       "Australia                                  NaN                 NaN   \n",
       "Australie,Belgique,Suisse                 0.40               22.60   \n",
       "Belgique,France                           0.00                1.80   \n",
       "Belgique,France,Pays-Bas,Royaume-Uni     15.25               33.05   \n",
       "Canada                                    9.20               32.26   \n",
       "\n",
       "                                      sugars_100g  saturated-fat_100g  \\\n",
       "countries                                                               \n",
       "Australia                                     NaN                 NaN   \n",
       "Australie,Belgique,Suisse                 20.8000             0.10000   \n",
       "Belgique,France                            0.0000             0.00000   \n",
       "Belgique,France,Pays-Bas,Royaume-Uni      16.2500             8.45000   \n",
       "Canada                                    10.9248             3.04825   \n",
       "\n",
       "                                      nutrition-score-fr_100g  \n",
       "countries                                                      \n",
       "Australia                                                 NaN  \n",
       "Australie,Belgique,Suisse                                12.0  \n",
       "Belgique,France                                           9.0  \n",
       "Belgique,France,Pays-Bas,Royaume-Uni                     11.5  \n",
       "Canada                                                    4.5  "
      ]
     },
     "execution_count": 106,
     "metadata": {},
     "output_type": "execute_result"
    }
   ],
   "source": [
    "counties_food.head()"
   ]
  },
  {
   "cell_type": "code",
   "execution_count": 107,
   "metadata": {},
   "outputs": [
    {
     "data": {
      "text/plain": [
       "Index(['Australia', 'Australie,Belgique,Suisse', 'Belgique,France',\n",
       "       'Belgique,France,Pays-Bas,Royaume-Uni', 'Canada', 'Deutschland',\n",
       "       'España', 'France', 'France, US', 'France,Allemagne',\n",
       "       'France,Belgique,Pays-Bas,Royaume-Uni', 'France,Royaume-Uni',\n",
       "       'France,Suisse,États-Unis,Canada', 'France,UK', 'France,United Kingdom',\n",
       "       'France,United States', 'France,États-Unis', 'Germany', 'Ireland',\n",
       "       'Nederland', 'Royaume-Uni,France', 'Suisse', 'Switzerland', 'UK,France',\n",
       "       'US', 'United Kingdom', 'United Kingdom, US', 'United States', 'Usa',\n",
       "       'en:AU', 'en:AU, en:france', 'en:BD', 'en:BR', 'en:CA', 'en:CA, US',\n",
       "       'en:CH', 'en:DE', 'en:DO', 'en:ES', 'en:FR', 'en:FR, US',\n",
       "       'en:FR,France', 'en:GB', 'en:GP', 'en:IT', 'en:PT', 'en:RE, en:france',\n",
       "       'en:RO', 'en:SI', 'en:TW', 'en:US', 'en:US,United Kingdom',\n",
       "       'États-Unis'],\n",
       "      dtype='object', name='countries')"
      ]
     },
     "execution_count": 107,
     "metadata": {},
     "output_type": "execute_result"
    }
   ],
   "source": [
    "counties_food.index"
   ]
  },
  {
   "cell_type": "markdown",
   "metadata": {},
   "source": [
    "We tried to group by country and the mean value of the ingredients of the food, there are still a lot of missing values, but our biggest problem is that many of the names are the same, this can be seen with the index function. Some of the counties have more the one country. Some of the names are of different languages. Lets assume that the leading country is the first one (this may not be true at all, but we need to start somewhere). We will use the reset index country."
   ]
  },
  {
   "cell_type": "code",
   "execution_count": 108,
   "metadata": {
    "collapsed": true
   },
   "outputs": [],
   "source": [
    "countries_food = counties_food.reset_index()"
   ]
  },
  {
   "cell_type": "code",
   "execution_count": 109,
   "metadata": {},
   "outputs": [
    {
     "data": {
      "text/html": [
       "<div>\n",
       "<style>\n",
       "    .dataframe thead tr:only-child th {\n",
       "        text-align: right;\n",
       "    }\n",
       "\n",
       "    .dataframe thead th {\n",
       "        text-align: left;\n",
       "    }\n",
       "\n",
       "    .dataframe tbody tr th {\n",
       "        vertical-align: top;\n",
       "    }\n",
       "</style>\n",
       "<table border=\"1\" class=\"dataframe\">\n",
       "  <thead>\n",
       "    <tr style=\"text-align: right;\">\n",
       "      <th></th>\n",
       "      <th>countries</th>\n",
       "      <th>energy_100g</th>\n",
       "      <th>proteins_100g</th>\n",
       "      <th>salt_100g</th>\n",
       "      <th>sodium_100g</th>\n",
       "      <th>ingredients_from_palm_oil_n</th>\n",
       "      <th>ingredients_that_may_be_from_palm_oil_n</th>\n",
       "      <th>fat_100g</th>\n",
       "      <th>carbohydrates_100g</th>\n",
       "      <th>sugars_100g</th>\n",
       "      <th>saturated-fat_100g</th>\n",
       "      <th>nutrition-score-fr_100g</th>\n",
       "    </tr>\n",
       "  </thead>\n",
       "  <tbody>\n",
       "    <tr>\n",
       "      <th>0</th>\n",
       "      <td>Australia</td>\n",
       "      <td>NaN</td>\n",
       "      <td>NaN</td>\n",
       "      <td>NaN</td>\n",
       "      <td>NaN</td>\n",
       "      <td>NaN</td>\n",
       "      <td>NaN</td>\n",
       "      <td>NaN</td>\n",
       "      <td>NaN</td>\n",
       "      <td>NaN</td>\n",
       "      <td>NaN</td>\n",
       "      <td>NaN</td>\n",
       "    </tr>\n",
       "    <tr>\n",
       "      <th>1</th>\n",
       "      <td>Australie,Belgique,Suisse</td>\n",
       "      <td>419.000000</td>\n",
       "      <td>1.500000</td>\n",
       "      <td>6.000000</td>\n",
       "      <td>2.362205</td>\n",
       "      <td>NaN</td>\n",
       "      <td>NaN</td>\n",
       "      <td>0.400000</td>\n",
       "      <td>22.600000</td>\n",
       "      <td>20.800000</td>\n",
       "      <td>0.100000</td>\n",
       "      <td>12.000000</td>\n",
       "    </tr>\n",
       "    <tr>\n",
       "      <th>2</th>\n",
       "      <td>Belgique,France</td>\n",
       "      <td>46.000000</td>\n",
       "      <td>0.600000</td>\n",
       "      <td>7.400000</td>\n",
       "      <td>2.913386</td>\n",
       "      <td>0.000000</td>\n",
       "      <td>0.000000</td>\n",
       "      <td>0.000000</td>\n",
       "      <td>1.800000</td>\n",
       "      <td>0.000000</td>\n",
       "      <td>0.000000</td>\n",
       "      <td>9.000000</td>\n",
       "    </tr>\n",
       "    <tr>\n",
       "      <th>3</th>\n",
       "      <td>Belgique,France,Pays-Bas,Royaume-Uni</td>\n",
       "      <td>1309.500000</td>\n",
       "      <td>9.950000</td>\n",
       "      <td>0.805000</td>\n",
       "      <td>0.316929</td>\n",
       "      <td>0.000000</td>\n",
       "      <td>0.000000</td>\n",
       "      <td>15.250000</td>\n",
       "      <td>33.050000</td>\n",
       "      <td>16.250000</td>\n",
       "      <td>8.450000</td>\n",
       "      <td>11.500000</td>\n",
       "    </tr>\n",
       "    <tr>\n",
       "      <th>4</th>\n",
       "      <td>Canada</td>\n",
       "      <td>1034.833333</td>\n",
       "      <td>13.230000</td>\n",
       "      <td>1.080500</td>\n",
       "      <td>0.425500</td>\n",
       "      <td>0.000000</td>\n",
       "      <td>0.200000</td>\n",
       "      <td>9.200000</td>\n",
       "      <td>32.260000</td>\n",
       "      <td>10.924800</td>\n",
       "      <td>3.048250</td>\n",
       "      <td>4.500000</td>\n",
       "    </tr>\n",
       "    <tr>\n",
       "      <th>5</th>\n",
       "      <td>Deutschland</td>\n",
       "      <td>1650.100000</td>\n",
       "      <td>75.785000</td>\n",
       "      <td>0.931185</td>\n",
       "      <td>0.366608</td>\n",
       "      <td>0.000000</td>\n",
       "      <td>0.000000</td>\n",
       "      <td>5.210000</td>\n",
       "      <td>9.240000</td>\n",
       "      <td>17.375000</td>\n",
       "      <td>21.100000</td>\n",
       "      <td>26.000000</td>\n",
       "    </tr>\n",
       "    <tr>\n",
       "      <th>6</th>\n",
       "      <td>España</td>\n",
       "      <td>320.000000</td>\n",
       "      <td>3.600000</td>\n",
       "      <td>NaN</td>\n",
       "      <td>NaN</td>\n",
       "      <td>0.000000</td>\n",
       "      <td>0.000000</td>\n",
       "      <td>3.500000</td>\n",
       "      <td>7.500000</td>\n",
       "      <td>NaN</td>\n",
       "      <td>NaN</td>\n",
       "      <td>NaN</td>\n",
       "    </tr>\n",
       "    <tr>\n",
       "      <th>7</th>\n",
       "      <td>France</td>\n",
       "      <td>1135.487500</td>\n",
       "      <td>6.803797</td>\n",
       "      <td>0.776477</td>\n",
       "      <td>0.305699</td>\n",
       "      <td>0.013699</td>\n",
       "      <td>0.109589</td>\n",
       "      <td>12.865926</td>\n",
       "      <td>32.283433</td>\n",
       "      <td>16.273418</td>\n",
       "      <td>4.646837</td>\n",
       "      <td>10.303797</td>\n",
       "    </tr>\n",
       "    <tr>\n",
       "      <th>8</th>\n",
       "      <td>France, US</td>\n",
       "      <td>641.000000</td>\n",
       "      <td>6.837500</td>\n",
       "      <td>9.560000</td>\n",
       "      <td>3.763780</td>\n",
       "      <td>NaN</td>\n",
       "      <td>NaN</td>\n",
       "      <td>2.917500</td>\n",
       "      <td>56.145000</td>\n",
       "      <td>24.233333</td>\n",
       "      <td>0.600000</td>\n",
       "      <td>11.666667</td>\n",
       "    </tr>\n",
       "    <tr>\n",
       "      <th>9</th>\n",
       "      <td>France,Allemagne</td>\n",
       "      <td>NaN</td>\n",
       "      <td>NaN</td>\n",
       "      <td>NaN</td>\n",
       "      <td>NaN</td>\n",
       "      <td>NaN</td>\n",
       "      <td>NaN</td>\n",
       "      <td>NaN</td>\n",
       "      <td>NaN</td>\n",
       "      <td>NaN</td>\n",
       "      <td>NaN</td>\n",
       "      <td>NaN</td>\n",
       "    </tr>\n",
       "    <tr>\n",
       "      <th>10</th>\n",
       "      <td>France,Belgique,Pays-Bas,Royaume-Uni</td>\n",
       "      <td>1809.000000</td>\n",
       "      <td>6.100000</td>\n",
       "      <td>0.830000</td>\n",
       "      <td>0.326772</td>\n",
       "      <td>0.000000</td>\n",
       "      <td>0.000000</td>\n",
       "      <td>13.300000</td>\n",
       "      <td>70.200000</td>\n",
       "      <td>35.700000</td>\n",
       "      <td>7.000000</td>\n",
       "      <td>18.000000</td>\n",
       "    </tr>\n",
       "    <tr>\n",
       "      <th>11</th>\n",
       "      <td>France,Royaume-Uni</td>\n",
       "      <td>1483.571429</td>\n",
       "      <td>5.421429</td>\n",
       "      <td>0.935714</td>\n",
       "      <td>0.368391</td>\n",
       "      <td>0.000000</td>\n",
       "      <td>0.000000</td>\n",
       "      <td>15.387500</td>\n",
       "      <td>56.275000</td>\n",
       "      <td>25.321429</td>\n",
       "      <td>11.935714</td>\n",
       "      <td>13.142857</td>\n",
       "    </tr>\n",
       "    <tr>\n",
       "      <th>12</th>\n",
       "      <td>France,Suisse,États-Unis,Canada</td>\n",
       "      <td>2260.000000</td>\n",
       "      <td>5.410000</td>\n",
       "      <td>0.103000</td>\n",
       "      <td>0.040500</td>\n",
       "      <td>0.000000</td>\n",
       "      <td>0.000000</td>\n",
       "      <td>32.400000</td>\n",
       "      <td>56.800000</td>\n",
       "      <td>56.800000</td>\n",
       "      <td>10.800000</td>\n",
       "      <td>23.000000</td>\n",
       "    </tr>\n",
       "    <tr>\n",
       "      <th>13</th>\n",
       "      <td>France,UK</td>\n",
       "      <td>1452.000000</td>\n",
       "      <td>10.150000</td>\n",
       "      <td>0.915000</td>\n",
       "      <td>0.360236</td>\n",
       "      <td>NaN</td>\n",
       "      <td>NaN</td>\n",
       "      <td>NaN</td>\n",
       "      <td>NaN</td>\n",
       "      <td>6.400000</td>\n",
       "      <td>8.450000</td>\n",
       "      <td>6.500000</td>\n",
       "    </tr>\n",
       "    <tr>\n",
       "      <th>14</th>\n",
       "      <td>France,United Kingdom</td>\n",
       "      <td>1046.200000</td>\n",
       "      <td>6.620000</td>\n",
       "      <td>0.484000</td>\n",
       "      <td>0.190551</td>\n",
       "      <td>0.000000</td>\n",
       "      <td>0.000000</td>\n",
       "      <td>8.933333</td>\n",
       "      <td>29.133333</td>\n",
       "      <td>13.140000</td>\n",
       "      <td>6.810000</td>\n",
       "      <td>8.400000</td>\n",
       "    </tr>\n",
       "    <tr>\n",
       "      <th>15</th>\n",
       "      <td>France,United States</td>\n",
       "      <td>2260.000000</td>\n",
       "      <td>5.410000</td>\n",
       "      <td>0.103000</td>\n",
       "      <td>0.040500</td>\n",
       "      <td>0.000000</td>\n",
       "      <td>0.000000</td>\n",
       "      <td>32.400000</td>\n",
       "      <td>56.800000</td>\n",
       "      <td>56.800000</td>\n",
       "      <td>10.800000</td>\n",
       "      <td>23.000000</td>\n",
       "    </tr>\n",
       "    <tr>\n",
       "      <th>16</th>\n",
       "      <td>France,États-Unis</td>\n",
       "      <td>NaN</td>\n",
       "      <td>NaN</td>\n",
       "      <td>NaN</td>\n",
       "      <td>NaN</td>\n",
       "      <td>0.000000</td>\n",
       "      <td>0.000000</td>\n",
       "      <td>NaN</td>\n",
       "      <td>NaN</td>\n",
       "      <td>NaN</td>\n",
       "      <td>NaN</td>\n",
       "      <td>NaN</td>\n",
       "    </tr>\n",
       "    <tr>\n",
       "      <th>17</th>\n",
       "      <td>Germany</td>\n",
       "      <td>973.000000</td>\n",
       "      <td>2.500000</td>\n",
       "      <td>0.101600</td>\n",
       "      <td>0.040000</td>\n",
       "      <td>0.000000</td>\n",
       "      <td>0.000000</td>\n",
       "      <td>0.000000</td>\n",
       "      <td>54.500000</td>\n",
       "      <td>40.750000</td>\n",
       "      <td>0.000000</td>\n",
       "      <td>10.000000</td>\n",
       "    </tr>\n",
       "    <tr>\n",
       "      <th>18</th>\n",
       "      <td>Ireland</td>\n",
       "      <td>NaN</td>\n",
       "      <td>NaN</td>\n",
       "      <td>NaN</td>\n",
       "      <td>NaN</td>\n",
       "      <td>0.000000</td>\n",
       "      <td>0.000000</td>\n",
       "      <td>NaN</td>\n",
       "      <td>NaN</td>\n",
       "      <td>NaN</td>\n",
       "      <td>NaN</td>\n",
       "      <td>NaN</td>\n",
       "    </tr>\n",
       "    <tr>\n",
       "      <th>19</th>\n",
       "      <td>Nederland</td>\n",
       "      <td>NaN</td>\n",
       "      <td>NaN</td>\n",
       "      <td>NaN</td>\n",
       "      <td>NaN</td>\n",
       "      <td>NaN</td>\n",
       "      <td>NaN</td>\n",
       "      <td>NaN</td>\n",
       "      <td>NaN</td>\n",
       "      <td>NaN</td>\n",
       "      <td>NaN</td>\n",
       "      <td>NaN</td>\n",
       "    </tr>\n",
       "    <tr>\n",
       "      <th>20</th>\n",
       "      <td>Royaume-Uni,France</td>\n",
       "      <td>564.000000</td>\n",
       "      <td>24.500000</td>\n",
       "      <td>2.000000</td>\n",
       "      <td>0.787402</td>\n",
       "      <td>0.000000</td>\n",
       "      <td>0.000000</td>\n",
       "      <td>2.000000</td>\n",
       "      <td>4.300000</td>\n",
       "      <td>2.900000</td>\n",
       "      <td>0.700000</td>\n",
       "      <td>4.000000</td>\n",
       "    </tr>\n",
       "    <tr>\n",
       "      <th>21</th>\n",
       "      <td>Suisse</td>\n",
       "      <td>NaN</td>\n",
       "      <td>NaN</td>\n",
       "      <td>NaN</td>\n",
       "      <td>NaN</td>\n",
       "      <td>0.000000</td>\n",
       "      <td>0.000000</td>\n",
       "      <td>NaN</td>\n",
       "      <td>NaN</td>\n",
       "      <td>NaN</td>\n",
       "      <td>NaN</td>\n",
       "      <td>NaN</td>\n",
       "    </tr>\n",
       "    <tr>\n",
       "      <th>22</th>\n",
       "      <td>Switzerland</td>\n",
       "      <td>NaN</td>\n",
       "      <td>NaN</td>\n",
       "      <td>NaN</td>\n",
       "      <td>NaN</td>\n",
       "      <td>NaN</td>\n",
       "      <td>NaN</td>\n",
       "      <td>NaN</td>\n",
       "      <td>NaN</td>\n",
       "      <td>NaN</td>\n",
       "      <td>NaN</td>\n",
       "      <td>NaN</td>\n",
       "    </tr>\n",
       "    <tr>\n",
       "      <th>23</th>\n",
       "      <td>UK,France</td>\n",
       "      <td>1251.666667</td>\n",
       "      <td>10.566667</td>\n",
       "      <td>1.125867</td>\n",
       "      <td>0.443255</td>\n",
       "      <td>0.200000</td>\n",
       "      <td>0.200000</td>\n",
       "      <td>15.220000</td>\n",
       "      <td>36.080000</td>\n",
       "      <td>16.650000</td>\n",
       "      <td>6.800000</td>\n",
       "      <td>11.000000</td>\n",
       "    </tr>\n",
       "    <tr>\n",
       "      <th>24</th>\n",
       "      <td>US</td>\n",
       "      <td>1133.316143</td>\n",
       "      <td>6.210389</td>\n",
       "      <td>2.017641</td>\n",
       "      <td>0.794347</td>\n",
       "      <td>0.000000</td>\n",
       "      <td>0.057985</td>\n",
       "      <td>12.482433</td>\n",
       "      <td>33.740209</td>\n",
       "      <td>17.241450</td>\n",
       "      <td>5.036940</td>\n",
       "      <td>9.626326</td>\n",
       "    </tr>\n",
       "    <tr>\n",
       "      <th>25</th>\n",
       "      <td>United Kingdom</td>\n",
       "      <td>1108.000000</td>\n",
       "      <td>5.488889</td>\n",
       "      <td>0.245386</td>\n",
       "      <td>0.096609</td>\n",
       "      <td>0.000000</td>\n",
       "      <td>0.240000</td>\n",
       "      <td>12.550000</td>\n",
       "      <td>34.983333</td>\n",
       "      <td>19.877778</td>\n",
       "      <td>4.482353</td>\n",
       "      <td>5.647059</td>\n",
       "    </tr>\n",
       "    <tr>\n",
       "      <th>26</th>\n",
       "      <td>United Kingdom, US</td>\n",
       "      <td>1494.000000</td>\n",
       "      <td>7.140000</td>\n",
       "      <td>0.000000</td>\n",
       "      <td>0.000000</td>\n",
       "      <td>0.000000</td>\n",
       "      <td>0.000000</td>\n",
       "      <td>0.000000</td>\n",
       "      <td>78.570000</td>\n",
       "      <td>NaN</td>\n",
       "      <td>NaN</td>\n",
       "      <td>NaN</td>\n",
       "    </tr>\n",
       "    <tr>\n",
       "      <th>27</th>\n",
       "      <td>United States</td>\n",
       "      <td>1172.083673</td>\n",
       "      <td>6.844469</td>\n",
       "      <td>0.795820</td>\n",
       "      <td>0.313414</td>\n",
       "      <td>0.000000</td>\n",
       "      <td>0.069767</td>\n",
       "      <td>12.091531</td>\n",
       "      <td>36.891837</td>\n",
       "      <td>19.709318</td>\n",
       "      <td>4.691538</td>\n",
       "      <td>7.923077</td>\n",
       "    </tr>\n",
       "    <tr>\n",
       "      <th>28</th>\n",
       "      <td>Usa</td>\n",
       "      <td>NaN</td>\n",
       "      <td>NaN</td>\n",
       "      <td>NaN</td>\n",
       "      <td>NaN</td>\n",
       "      <td>NaN</td>\n",
       "      <td>NaN</td>\n",
       "      <td>NaN</td>\n",
       "      <td>NaN</td>\n",
       "      <td>NaN</td>\n",
       "      <td>NaN</td>\n",
       "      <td>NaN</td>\n",
       "    </tr>\n",
       "    <tr>\n",
       "      <th>29</th>\n",
       "      <td>en:AU</td>\n",
       "      <td>NaN</td>\n",
       "      <td>NaN</td>\n",
       "      <td>NaN</td>\n",
       "      <td>NaN</td>\n",
       "      <td>0.000000</td>\n",
       "      <td>0.000000</td>\n",
       "      <td>NaN</td>\n",
       "      <td>NaN</td>\n",
       "      <td>NaN</td>\n",
       "      <td>NaN</td>\n",
       "      <td>NaN</td>\n",
       "    </tr>\n",
       "    <tr>\n",
       "      <th>30</th>\n",
       "      <td>en:AU, en:france</td>\n",
       "      <td>NaN</td>\n",
       "      <td>NaN</td>\n",
       "      <td>NaN</td>\n",
       "      <td>NaN</td>\n",
       "      <td>NaN</td>\n",
       "      <td>NaN</td>\n",
       "      <td>NaN</td>\n",
       "      <td>NaN</td>\n",
       "      <td>NaN</td>\n",
       "      <td>NaN</td>\n",
       "      <td>NaN</td>\n",
       "    </tr>\n",
       "    <tr>\n",
       "      <th>31</th>\n",
       "      <td>en:BD</td>\n",
       "      <td>NaN</td>\n",
       "      <td>NaN</td>\n",
       "      <td>NaN</td>\n",
       "      <td>NaN</td>\n",
       "      <td>NaN</td>\n",
       "      <td>NaN</td>\n",
       "      <td>NaN</td>\n",
       "      <td>NaN</td>\n",
       "      <td>NaN</td>\n",
       "      <td>NaN</td>\n",
       "      <td>NaN</td>\n",
       "    </tr>\n",
       "    <tr>\n",
       "      <th>32</th>\n",
       "      <td>en:BR</td>\n",
       "      <td>NaN</td>\n",
       "      <td>NaN</td>\n",
       "      <td>NaN</td>\n",
       "      <td>NaN</td>\n",
       "      <td>NaN</td>\n",
       "      <td>NaN</td>\n",
       "      <td>NaN</td>\n",
       "      <td>NaN</td>\n",
       "      <td>NaN</td>\n",
       "      <td>NaN</td>\n",
       "      <td>NaN</td>\n",
       "    </tr>\n",
       "    <tr>\n",
       "      <th>33</th>\n",
       "      <td>en:CA</td>\n",
       "      <td>NaN</td>\n",
       "      <td>NaN</td>\n",
       "      <td>NaN</td>\n",
       "      <td>NaN</td>\n",
       "      <td>NaN</td>\n",
       "      <td>NaN</td>\n",
       "      <td>NaN</td>\n",
       "      <td>NaN</td>\n",
       "      <td>NaN</td>\n",
       "      <td>NaN</td>\n",
       "      <td>NaN</td>\n",
       "    </tr>\n",
       "    <tr>\n",
       "      <th>34</th>\n",
       "      <td>en:CA, US</td>\n",
       "      <td>1393.000000</td>\n",
       "      <td>0.000000</td>\n",
       "      <td>0.020320</td>\n",
       "      <td>0.008000</td>\n",
       "      <td>NaN</td>\n",
       "      <td>NaN</td>\n",
       "      <td>0.000000</td>\n",
       "      <td>88.330000</td>\n",
       "      <td>88.330000</td>\n",
       "      <td>NaN</td>\n",
       "      <td>NaN</td>\n",
       "    </tr>\n",
       "    <tr>\n",
       "      <th>35</th>\n",
       "      <td>en:CH</td>\n",
       "      <td>NaN</td>\n",
       "      <td>NaN</td>\n",
       "      <td>NaN</td>\n",
       "      <td>NaN</td>\n",
       "      <td>NaN</td>\n",
       "      <td>NaN</td>\n",
       "      <td>NaN</td>\n",
       "      <td>NaN</td>\n",
       "      <td>NaN</td>\n",
       "      <td>NaN</td>\n",
       "      <td>NaN</td>\n",
       "    </tr>\n",
       "    <tr>\n",
       "      <th>36</th>\n",
       "      <td>en:DE</td>\n",
       "      <td>NaN</td>\n",
       "      <td>NaN</td>\n",
       "      <td>NaN</td>\n",
       "      <td>NaN</td>\n",
       "      <td>NaN</td>\n",
       "      <td>NaN</td>\n",
       "      <td>NaN</td>\n",
       "      <td>NaN</td>\n",
       "      <td>NaN</td>\n",
       "      <td>NaN</td>\n",
       "      <td>NaN</td>\n",
       "    </tr>\n",
       "    <tr>\n",
       "      <th>37</th>\n",
       "      <td>en:DO</td>\n",
       "      <td>NaN</td>\n",
       "      <td>NaN</td>\n",
       "      <td>NaN</td>\n",
       "      <td>NaN</td>\n",
       "      <td>NaN</td>\n",
       "      <td>NaN</td>\n",
       "      <td>NaN</td>\n",
       "      <td>NaN</td>\n",
       "      <td>NaN</td>\n",
       "      <td>NaN</td>\n",
       "      <td>NaN</td>\n",
       "    </tr>\n",
       "    <tr>\n",
       "      <th>38</th>\n",
       "      <td>en:ES</td>\n",
       "      <td>NaN</td>\n",
       "      <td>NaN</td>\n",
       "      <td>NaN</td>\n",
       "      <td>NaN</td>\n",
       "      <td>NaN</td>\n",
       "      <td>NaN</td>\n",
       "      <td>NaN</td>\n",
       "      <td>NaN</td>\n",
       "      <td>NaN</td>\n",
       "      <td>NaN</td>\n",
       "      <td>NaN</td>\n",
       "    </tr>\n",
       "    <tr>\n",
       "      <th>39</th>\n",
       "      <td>en:FR</td>\n",
       "      <td>NaN</td>\n",
       "      <td>NaN</td>\n",
       "      <td>NaN</td>\n",
       "      <td>NaN</td>\n",
       "      <td>NaN</td>\n",
       "      <td>NaN</td>\n",
       "      <td>NaN</td>\n",
       "      <td>NaN</td>\n",
       "      <td>NaN</td>\n",
       "      <td>NaN</td>\n",
       "      <td>NaN</td>\n",
       "    </tr>\n",
       "    <tr>\n",
       "      <th>40</th>\n",
       "      <td>en:FR, US</td>\n",
       "      <td>117.000000</td>\n",
       "      <td>0.000000</td>\n",
       "      <td>0.086360</td>\n",
       "      <td>0.034000</td>\n",
       "      <td>NaN</td>\n",
       "      <td>NaN</td>\n",
       "      <td>0.000000</td>\n",
       "      <td>6.050000</td>\n",
       "      <td>5.340000</td>\n",
       "      <td>0.000000</td>\n",
       "      <td>1.000000</td>\n",
       "    </tr>\n",
       "    <tr>\n",
       "      <th>41</th>\n",
       "      <td>en:FR,France</td>\n",
       "      <td>335.000000</td>\n",
       "      <td>2.100000</td>\n",
       "      <td>0.480000</td>\n",
       "      <td>0.188976</td>\n",
       "      <td>0.000000</td>\n",
       "      <td>0.000000</td>\n",
       "      <td>1.600000</td>\n",
       "      <td>14.000000</td>\n",
       "      <td>2.200000</td>\n",
       "      <td>0.800000</td>\n",
       "      <td>1.000000</td>\n",
       "    </tr>\n",
       "    <tr>\n",
       "      <th>42</th>\n",
       "      <td>en:GB</td>\n",
       "      <td>1141.000000</td>\n",
       "      <td>NaN</td>\n",
       "      <td>NaN</td>\n",
       "      <td>NaN</td>\n",
       "      <td>0.000000</td>\n",
       "      <td>0.333333</td>\n",
       "      <td>NaN</td>\n",
       "      <td>NaN</td>\n",
       "      <td>NaN</td>\n",
       "      <td>NaN</td>\n",
       "      <td>NaN</td>\n",
       "    </tr>\n",
       "    <tr>\n",
       "      <th>43</th>\n",
       "      <td>en:GP</td>\n",
       "      <td>NaN</td>\n",
       "      <td>NaN</td>\n",
       "      <td>NaN</td>\n",
       "      <td>NaN</td>\n",
       "      <td>NaN</td>\n",
       "      <td>NaN</td>\n",
       "      <td>NaN</td>\n",
       "      <td>NaN</td>\n",
       "      <td>NaN</td>\n",
       "      <td>NaN</td>\n",
       "      <td>NaN</td>\n",
       "    </tr>\n",
       "    <tr>\n",
       "      <th>44</th>\n",
       "      <td>en:IT</td>\n",
       "      <td>NaN</td>\n",
       "      <td>NaN</td>\n",
       "      <td>NaN</td>\n",
       "      <td>NaN</td>\n",
       "      <td>0.000000</td>\n",
       "      <td>0.000000</td>\n",
       "      <td>NaN</td>\n",
       "      <td>NaN</td>\n",
       "      <td>NaN</td>\n",
       "      <td>NaN</td>\n",
       "      <td>NaN</td>\n",
       "    </tr>\n",
       "    <tr>\n",
       "      <th>45</th>\n",
       "      <td>en:PT</td>\n",
       "      <td>NaN</td>\n",
       "      <td>NaN</td>\n",
       "      <td>NaN</td>\n",
       "      <td>NaN</td>\n",
       "      <td>NaN</td>\n",
       "      <td>NaN</td>\n",
       "      <td>NaN</td>\n",
       "      <td>NaN</td>\n",
       "      <td>NaN</td>\n",
       "      <td>NaN</td>\n",
       "      <td>NaN</td>\n",
       "    </tr>\n",
       "    <tr>\n",
       "      <th>46</th>\n",
       "      <td>en:RE, en:france</td>\n",
       "      <td>NaN</td>\n",
       "      <td>NaN</td>\n",
       "      <td>NaN</td>\n",
       "      <td>NaN</td>\n",
       "      <td>NaN</td>\n",
       "      <td>NaN</td>\n",
       "      <td>NaN</td>\n",
       "      <td>NaN</td>\n",
       "      <td>NaN</td>\n",
       "      <td>NaN</td>\n",
       "      <td>NaN</td>\n",
       "    </tr>\n",
       "    <tr>\n",
       "      <th>47</th>\n",
       "      <td>en:RO</td>\n",
       "      <td>2278.000000</td>\n",
       "      <td>NaN</td>\n",
       "      <td>NaN</td>\n",
       "      <td>NaN</td>\n",
       "      <td>0.000000</td>\n",
       "      <td>0.000000</td>\n",
       "      <td>NaN</td>\n",
       "      <td>NaN</td>\n",
       "      <td>NaN</td>\n",
       "      <td>NaN</td>\n",
       "      <td>NaN</td>\n",
       "    </tr>\n",
       "    <tr>\n",
       "      <th>48</th>\n",
       "      <td>en:SI</td>\n",
       "      <td>NaN</td>\n",
       "      <td>NaN</td>\n",
       "      <td>NaN</td>\n",
       "      <td>NaN</td>\n",
       "      <td>0.000000</td>\n",
       "      <td>0.000000</td>\n",
       "      <td>NaN</td>\n",
       "      <td>NaN</td>\n",
       "      <td>NaN</td>\n",
       "      <td>NaN</td>\n",
       "      <td>NaN</td>\n",
       "    </tr>\n",
       "    <tr>\n",
       "      <th>49</th>\n",
       "      <td>en:TW</td>\n",
       "      <td>NaN</td>\n",
       "      <td>NaN</td>\n",
       "      <td>NaN</td>\n",
       "      <td>NaN</td>\n",
       "      <td>NaN</td>\n",
       "      <td>NaN</td>\n",
       "      <td>NaN</td>\n",
       "      <td>NaN</td>\n",
       "      <td>NaN</td>\n",
       "      <td>NaN</td>\n",
       "      <td>NaN</td>\n",
       "    </tr>\n",
       "    <tr>\n",
       "      <th>50</th>\n",
       "      <td>en:US</td>\n",
       "      <td>1412.785714</td>\n",
       "      <td>8.777857</td>\n",
       "      <td>0.799556</td>\n",
       "      <td>0.314786</td>\n",
       "      <td>0.000000</td>\n",
       "      <td>0.142857</td>\n",
       "      <td>15.622143</td>\n",
       "      <td>41.694286</td>\n",
       "      <td>24.082143</td>\n",
       "      <td>7.436667</td>\n",
       "      <td>12.250000</td>\n",
       "    </tr>\n",
       "    <tr>\n",
       "      <th>51</th>\n",
       "      <td>en:US,United Kingdom</td>\n",
       "      <td>NaN</td>\n",
       "      <td>NaN</td>\n",
       "      <td>NaN</td>\n",
       "      <td>NaN</td>\n",
       "      <td>NaN</td>\n",
       "      <td>NaN</td>\n",
       "      <td>NaN</td>\n",
       "      <td>NaN</td>\n",
       "      <td>NaN</td>\n",
       "      <td>NaN</td>\n",
       "      <td>NaN</td>\n",
       "    </tr>\n",
       "    <tr>\n",
       "      <th>52</th>\n",
       "      <td>États-Unis</td>\n",
       "      <td>2286.500000</td>\n",
       "      <td>5.462500</td>\n",
       "      <td>0.351925</td>\n",
       "      <td>0.138700</td>\n",
       "      <td>0.000000</td>\n",
       "      <td>0.000000</td>\n",
       "      <td>43.600000</td>\n",
       "      <td>34.775000</td>\n",
       "      <td>39.086667</td>\n",
       "      <td>9.900000</td>\n",
       "      <td>18.333333</td>\n",
       "    </tr>\n",
       "  </tbody>\n",
       "</table>\n",
       "</div>"
      ],
      "text/plain": [
       "                               countries  energy_100g  proteins_100g  \\\n",
       "0                              Australia          NaN            NaN   \n",
       "1              Australie,Belgique,Suisse   419.000000       1.500000   \n",
       "2                        Belgique,France    46.000000       0.600000   \n",
       "3   Belgique,France,Pays-Bas,Royaume-Uni  1309.500000       9.950000   \n",
       "4                                 Canada  1034.833333      13.230000   \n",
       "5                            Deutschland  1650.100000      75.785000   \n",
       "6                                 España   320.000000       3.600000   \n",
       "7                                 France  1135.487500       6.803797   \n",
       "8                             France, US   641.000000       6.837500   \n",
       "9                       France,Allemagne          NaN            NaN   \n",
       "10  France,Belgique,Pays-Bas,Royaume-Uni  1809.000000       6.100000   \n",
       "11                    France,Royaume-Uni  1483.571429       5.421429   \n",
       "12       France,Suisse,États-Unis,Canada  2260.000000       5.410000   \n",
       "13                             France,UK  1452.000000      10.150000   \n",
       "14                 France,United Kingdom  1046.200000       6.620000   \n",
       "15                  France,United States  2260.000000       5.410000   \n",
       "16                     France,États-Unis          NaN            NaN   \n",
       "17                               Germany   973.000000       2.500000   \n",
       "18                               Ireland          NaN            NaN   \n",
       "19                             Nederland          NaN            NaN   \n",
       "20                    Royaume-Uni,France   564.000000      24.500000   \n",
       "21                                Suisse          NaN            NaN   \n",
       "22                           Switzerland          NaN            NaN   \n",
       "23                             UK,France  1251.666667      10.566667   \n",
       "24                                    US  1133.316143       6.210389   \n",
       "25                        United Kingdom  1108.000000       5.488889   \n",
       "26                    United Kingdom, US  1494.000000       7.140000   \n",
       "27                         United States  1172.083673       6.844469   \n",
       "28                                   Usa          NaN            NaN   \n",
       "29                                 en:AU          NaN            NaN   \n",
       "30                      en:AU, en:france          NaN            NaN   \n",
       "31                                 en:BD          NaN            NaN   \n",
       "32                                 en:BR          NaN            NaN   \n",
       "33                                 en:CA          NaN            NaN   \n",
       "34                             en:CA, US  1393.000000       0.000000   \n",
       "35                                 en:CH          NaN            NaN   \n",
       "36                                 en:DE          NaN            NaN   \n",
       "37                                 en:DO          NaN            NaN   \n",
       "38                                 en:ES          NaN            NaN   \n",
       "39                                 en:FR          NaN            NaN   \n",
       "40                             en:FR, US   117.000000       0.000000   \n",
       "41                          en:FR,France   335.000000       2.100000   \n",
       "42                                 en:GB  1141.000000            NaN   \n",
       "43                                 en:GP          NaN            NaN   \n",
       "44                                 en:IT          NaN            NaN   \n",
       "45                                 en:PT          NaN            NaN   \n",
       "46                      en:RE, en:france          NaN            NaN   \n",
       "47                                 en:RO  2278.000000            NaN   \n",
       "48                                 en:SI          NaN            NaN   \n",
       "49                                 en:TW          NaN            NaN   \n",
       "50                                 en:US  1412.785714       8.777857   \n",
       "51                  en:US,United Kingdom          NaN            NaN   \n",
       "52                            États-Unis  2286.500000       5.462500   \n",
       "\n",
       "    salt_100g  sodium_100g  ingredients_from_palm_oil_n  \\\n",
       "0         NaN          NaN                          NaN   \n",
       "1    6.000000     2.362205                          NaN   \n",
       "2    7.400000     2.913386                     0.000000   \n",
       "3    0.805000     0.316929                     0.000000   \n",
       "4    1.080500     0.425500                     0.000000   \n",
       "5    0.931185     0.366608                     0.000000   \n",
       "6         NaN          NaN                     0.000000   \n",
       "7    0.776477     0.305699                     0.013699   \n",
       "8    9.560000     3.763780                          NaN   \n",
       "9         NaN          NaN                          NaN   \n",
       "10   0.830000     0.326772                     0.000000   \n",
       "11   0.935714     0.368391                     0.000000   \n",
       "12   0.103000     0.040500                     0.000000   \n",
       "13   0.915000     0.360236                          NaN   \n",
       "14   0.484000     0.190551                     0.000000   \n",
       "15   0.103000     0.040500                     0.000000   \n",
       "16        NaN          NaN                     0.000000   \n",
       "17   0.101600     0.040000                     0.000000   \n",
       "18        NaN          NaN                     0.000000   \n",
       "19        NaN          NaN                          NaN   \n",
       "20   2.000000     0.787402                     0.000000   \n",
       "21        NaN          NaN                     0.000000   \n",
       "22        NaN          NaN                          NaN   \n",
       "23   1.125867     0.443255                     0.200000   \n",
       "24   2.017641     0.794347                     0.000000   \n",
       "25   0.245386     0.096609                     0.000000   \n",
       "26   0.000000     0.000000                     0.000000   \n",
       "27   0.795820     0.313414                     0.000000   \n",
       "28        NaN          NaN                          NaN   \n",
       "29        NaN          NaN                     0.000000   \n",
       "30        NaN          NaN                          NaN   \n",
       "31        NaN          NaN                          NaN   \n",
       "32        NaN          NaN                          NaN   \n",
       "33        NaN          NaN                          NaN   \n",
       "34   0.020320     0.008000                          NaN   \n",
       "35        NaN          NaN                          NaN   \n",
       "36        NaN          NaN                          NaN   \n",
       "37        NaN          NaN                          NaN   \n",
       "38        NaN          NaN                          NaN   \n",
       "39        NaN          NaN                          NaN   \n",
       "40   0.086360     0.034000                          NaN   \n",
       "41   0.480000     0.188976                     0.000000   \n",
       "42        NaN          NaN                     0.000000   \n",
       "43        NaN          NaN                          NaN   \n",
       "44        NaN          NaN                     0.000000   \n",
       "45        NaN          NaN                          NaN   \n",
       "46        NaN          NaN                          NaN   \n",
       "47        NaN          NaN                     0.000000   \n",
       "48        NaN          NaN                     0.000000   \n",
       "49        NaN          NaN                          NaN   \n",
       "50   0.799556     0.314786                     0.000000   \n",
       "51        NaN          NaN                          NaN   \n",
       "52   0.351925     0.138700                     0.000000   \n",
       "\n",
       "    ingredients_that_may_be_from_palm_oil_n   fat_100g  carbohydrates_100g  \\\n",
       "0                                       NaN        NaN                 NaN   \n",
       "1                                       NaN   0.400000           22.600000   \n",
       "2                                  0.000000   0.000000            1.800000   \n",
       "3                                  0.000000  15.250000           33.050000   \n",
       "4                                  0.200000   9.200000           32.260000   \n",
       "5                                  0.000000   5.210000            9.240000   \n",
       "6                                  0.000000   3.500000            7.500000   \n",
       "7                                  0.109589  12.865926           32.283433   \n",
       "8                                       NaN   2.917500           56.145000   \n",
       "9                                       NaN        NaN                 NaN   \n",
       "10                                 0.000000  13.300000           70.200000   \n",
       "11                                 0.000000  15.387500           56.275000   \n",
       "12                                 0.000000  32.400000           56.800000   \n",
       "13                                      NaN        NaN                 NaN   \n",
       "14                                 0.000000   8.933333           29.133333   \n",
       "15                                 0.000000  32.400000           56.800000   \n",
       "16                                 0.000000        NaN                 NaN   \n",
       "17                                 0.000000   0.000000           54.500000   \n",
       "18                                 0.000000        NaN                 NaN   \n",
       "19                                      NaN        NaN                 NaN   \n",
       "20                                 0.000000   2.000000            4.300000   \n",
       "21                                 0.000000        NaN                 NaN   \n",
       "22                                      NaN        NaN                 NaN   \n",
       "23                                 0.200000  15.220000           36.080000   \n",
       "24                                 0.057985  12.482433           33.740209   \n",
       "25                                 0.240000  12.550000           34.983333   \n",
       "26                                 0.000000   0.000000           78.570000   \n",
       "27                                 0.069767  12.091531           36.891837   \n",
       "28                                      NaN        NaN                 NaN   \n",
       "29                                 0.000000        NaN                 NaN   \n",
       "30                                      NaN        NaN                 NaN   \n",
       "31                                      NaN        NaN                 NaN   \n",
       "32                                      NaN        NaN                 NaN   \n",
       "33                                      NaN        NaN                 NaN   \n",
       "34                                      NaN   0.000000           88.330000   \n",
       "35                                      NaN        NaN                 NaN   \n",
       "36                                      NaN        NaN                 NaN   \n",
       "37                                      NaN        NaN                 NaN   \n",
       "38                                      NaN        NaN                 NaN   \n",
       "39                                      NaN        NaN                 NaN   \n",
       "40                                      NaN   0.000000            6.050000   \n",
       "41                                 0.000000   1.600000           14.000000   \n",
       "42                                 0.333333        NaN                 NaN   \n",
       "43                                      NaN        NaN                 NaN   \n",
       "44                                 0.000000        NaN                 NaN   \n",
       "45                                      NaN        NaN                 NaN   \n",
       "46                                      NaN        NaN                 NaN   \n",
       "47                                 0.000000        NaN                 NaN   \n",
       "48                                 0.000000        NaN                 NaN   \n",
       "49                                      NaN        NaN                 NaN   \n",
       "50                                 0.142857  15.622143           41.694286   \n",
       "51                                      NaN        NaN                 NaN   \n",
       "52                                 0.000000  43.600000           34.775000   \n",
       "\n",
       "    sugars_100g  saturated-fat_100g  nutrition-score-fr_100g  \n",
       "0           NaN                 NaN                      NaN  \n",
       "1     20.800000            0.100000                12.000000  \n",
       "2      0.000000            0.000000                 9.000000  \n",
       "3     16.250000            8.450000                11.500000  \n",
       "4     10.924800            3.048250                 4.500000  \n",
       "5     17.375000           21.100000                26.000000  \n",
       "6           NaN                 NaN                      NaN  \n",
       "7     16.273418            4.646837                10.303797  \n",
       "8     24.233333            0.600000                11.666667  \n",
       "9           NaN                 NaN                      NaN  \n",
       "10    35.700000            7.000000                18.000000  \n",
       "11    25.321429           11.935714                13.142857  \n",
       "12    56.800000           10.800000                23.000000  \n",
       "13     6.400000            8.450000                 6.500000  \n",
       "14    13.140000            6.810000                 8.400000  \n",
       "15    56.800000           10.800000                23.000000  \n",
       "16          NaN                 NaN                      NaN  \n",
       "17    40.750000            0.000000                10.000000  \n",
       "18          NaN                 NaN                      NaN  \n",
       "19          NaN                 NaN                      NaN  \n",
       "20     2.900000            0.700000                 4.000000  \n",
       "21          NaN                 NaN                      NaN  \n",
       "22          NaN                 NaN                      NaN  \n",
       "23    16.650000            6.800000                11.000000  \n",
       "24    17.241450            5.036940                 9.626326  \n",
       "25    19.877778            4.482353                 5.647059  \n",
       "26          NaN                 NaN                      NaN  \n",
       "27    19.709318            4.691538                 7.923077  \n",
       "28          NaN                 NaN                      NaN  \n",
       "29          NaN                 NaN                      NaN  \n",
       "30          NaN                 NaN                      NaN  \n",
       "31          NaN                 NaN                      NaN  \n",
       "32          NaN                 NaN                      NaN  \n",
       "33          NaN                 NaN                      NaN  \n",
       "34    88.330000                 NaN                      NaN  \n",
       "35          NaN                 NaN                      NaN  \n",
       "36          NaN                 NaN                      NaN  \n",
       "37          NaN                 NaN                      NaN  \n",
       "38          NaN                 NaN                      NaN  \n",
       "39          NaN                 NaN                      NaN  \n",
       "40     5.340000            0.000000                 1.000000  \n",
       "41     2.200000            0.800000                 1.000000  \n",
       "42          NaN                 NaN                      NaN  \n",
       "43          NaN                 NaN                      NaN  \n",
       "44          NaN                 NaN                      NaN  \n",
       "45          NaN                 NaN                      NaN  \n",
       "46          NaN                 NaN                      NaN  \n",
       "47          NaN                 NaN                      NaN  \n",
       "48          NaN                 NaN                      NaN  \n",
       "49          NaN                 NaN                      NaN  \n",
       "50    24.082143            7.436667                12.250000  \n",
       "51          NaN                 NaN                      NaN  \n",
       "52    39.086667            9.900000                18.333333  "
      ]
     },
     "execution_count": 109,
     "metadata": {},
     "output_type": "execute_result"
    }
   ],
   "source": [
    "countries_food"
   ]
  },
  {
   "cell_type": "code",
   "execution_count": 110,
   "metadata": {},
   "outputs": [
    {
     "data": {
      "text/plain": [
       "(53, 12)"
      ]
     },
     "execution_count": 110,
     "metadata": {},
     "output_type": "execute_result"
    }
   ],
   "source": [
    "countries_food.shape"
   ]
  },
  {
   "cell_type": "markdown",
   "metadata": {
    "collapsed": true
   },
   "source": [
    "After analysing the results if we continue to remove the rows that hove only NaN values we will be left with too few, and if we continue to merge the rows even fewer, so this is a dead end for the grouping process we should try another way. It is said that."
   ]
  },
  {
   "cell_type": "markdown",
   "metadata": {},
   "source": [
    "<img src=\"data_image.png\" style=\"max-height: 230px\" />"
   ]
  },
  {
   "cell_type": "code",
   "execution_count": 124,
   "metadata": {},
   "outputs": [
    {
     "data": {
      "text/plain": [
       "Index(['last_modified_datetime', 'creator', 'created_datetime', 'url', 'code',\n",
       "       'countries', 'product_name', 'brands', 'energy_100g', 'proteins_100g',\n",
       "       'salt_100g', 'sodium_100g', 'ingredients_text',\n",
       "       'ingredients_from_palm_oil_n',\n",
       "       'ingredients_that_may_be_from_palm_oil_n', 'additives', 'fat_100g',\n",
       "       'carbohydrates_100g', 'sugars_100g', 'saturated-fat_100g',\n",
       "       'nutrition_grade_fr', 'nutrition-score-fr_100g'],\n",
       "      dtype='object')"
      ]
     },
     "execution_count": 124,
     "metadata": {},
     "output_type": "execute_result"
    }
   ],
   "source": [
    "food_data.columns"
   ]
  },
  {
   "cell_type": "code",
   "execution_count": 143,
   "metadata": {},
   "outputs": [
    {
     "data": {
      "text/plain": [
       "array(['openfoodfacts-contributors', 'usda-ndb-import', 'chris13',\n",
       "       'date-limite-app', 'canieatthis-app', 'tacinte', 'teolemon', 'b7',\n",
       "       'bcatelin', 'sigoise', 'tacite', 'kiliweb', 'sebleouf',\n",
       "       'agamitsudo', 'twoflower', 'andre', 'syefulislam', 'javichu',\n",
       "       'jeanbono', 'allfitnessfactory-de', 'beniben', 'kyzh', 'malikele',\n",
       "       'gildubs', 'lbhlbh', 'wengong27514', 'brent', 'ysculo', 'chandon',\n",
       "       'stephane', 'jm0804', 'woshilapin', 'max4food', 'foodorigins',\n",
       "       'aleene', 'rjhunter', 'bdwyer', 'lilimarti', 'kp757',\n",
       "       'trevorpetersen', 'recipekeepapp', 'aeon', 'php93', 'toni',\n",
       "       'jiehong', 'pitajay', 'arig', 'bitnapper', 'openfood-ch-import',\n",
       "       'jcnascimento', 'manuc66', 'xmunoz', 'roblaw', 'amaurea',\n",
       "       'veganeamos'], dtype=object)"
      ]
     },
     "execution_count": 143,
     "metadata": {},
     "output_type": "execute_result"
    }
   ],
   "source": [
    "food_data['creator'].unique()"
   ]
  },
  {
   "cell_type": "code",
   "execution_count": 144,
   "metadata": {
    "collapsed": true
   },
   "outputs": [],
   "source": [
    "food_creator = food_data.groupby(food_data['creator'], axis=0).mean()"
   ]
  },
  {
   "cell_type": "code",
   "execution_count": 146,
   "metadata": {},
   "outputs": [
    {
     "data": {
      "text/html": [
       "<div>\n",
       "<style>\n",
       "    .dataframe thead tr:only-child th {\n",
       "        text-align: right;\n",
       "    }\n",
       "\n",
       "    .dataframe thead th {\n",
       "        text-align: left;\n",
       "    }\n",
       "\n",
       "    .dataframe tbody tr th {\n",
       "        vertical-align: top;\n",
       "    }\n",
       "</style>\n",
       "<table border=\"1\" class=\"dataframe\">\n",
       "  <thead>\n",
       "    <tr style=\"text-align: right;\">\n",
       "      <th></th>\n",
       "      <th>energy_100g</th>\n",
       "      <th>proteins_100g</th>\n",
       "      <th>salt_100g</th>\n",
       "      <th>sodium_100g</th>\n",
       "      <th>ingredients_from_palm_oil_n</th>\n",
       "      <th>ingredients_that_may_be_from_palm_oil_n</th>\n",
       "      <th>fat_100g</th>\n",
       "      <th>carbohydrates_100g</th>\n",
       "      <th>sugars_100g</th>\n",
       "      <th>saturated-fat_100g</th>\n",
       "      <th>nutrition-score-fr_100g</th>\n",
       "    </tr>\n",
       "    <tr>\n",
       "      <th>creator</th>\n",
       "      <th></th>\n",
       "      <th></th>\n",
       "      <th></th>\n",
       "      <th></th>\n",
       "      <th></th>\n",
       "      <th></th>\n",
       "      <th></th>\n",
       "      <th></th>\n",
       "      <th></th>\n",
       "      <th></th>\n",
       "      <th></th>\n",
       "    </tr>\n",
       "  </thead>\n",
       "  <tbody>\n",
       "    <tr>\n",
       "      <th>aeon</th>\n",
       "      <td>1197.000</td>\n",
       "      <td>28.57000</td>\n",
       "      <td>1.54178</td>\n",
       "      <td>0.607000</td>\n",
       "      <td>0.0</td>\n",
       "      <td>0.0</td>\n",
       "      <td>17.860</td>\n",
       "      <td>3.5700</td>\n",
       "      <td>0.0</td>\n",
       "      <td>10.71</td>\n",
       "      <td>19.0</td>\n",
       "    </tr>\n",
       "    <tr>\n",
       "      <th>agamitsudo</th>\n",
       "      <td>NaN</td>\n",
       "      <td>NaN</td>\n",
       "      <td>NaN</td>\n",
       "      <td>NaN</td>\n",
       "      <td>0.0</td>\n",
       "      <td>0.0</td>\n",
       "      <td>NaN</td>\n",
       "      <td>NaN</td>\n",
       "      <td>NaN</td>\n",
       "      <td>NaN</td>\n",
       "      <td>NaN</td>\n",
       "    </tr>\n",
       "    <tr>\n",
       "      <th>aleene</th>\n",
       "      <td>NaN</td>\n",
       "      <td>NaN</td>\n",
       "      <td>NaN</td>\n",
       "      <td>NaN</td>\n",
       "      <td>NaN</td>\n",
       "      <td>NaN</td>\n",
       "      <td>NaN</td>\n",
       "      <td>NaN</td>\n",
       "      <td>NaN</td>\n",
       "      <td>NaN</td>\n",
       "      <td>NaN</td>\n",
       "    </tr>\n",
       "    <tr>\n",
       "      <th>allfitnessfactory-de</th>\n",
       "      <td>1588.875</td>\n",
       "      <td>83.45625</td>\n",
       "      <td>1.21158</td>\n",
       "      <td>0.477000</td>\n",
       "      <td>0.0</td>\n",
       "      <td>0.0</td>\n",
       "      <td>2.225</td>\n",
       "      <td>4.5125</td>\n",
       "      <td>6.0</td>\n",
       "      <td>NaN</td>\n",
       "      <td>NaN</td>\n",
       "    </tr>\n",
       "    <tr>\n",
       "      <th>amaurea</th>\n",
       "      <td>1928.000</td>\n",
       "      <td>5.10000</td>\n",
       "      <td>0.81000</td>\n",
       "      <td>0.318898</td>\n",
       "      <td>0.0</td>\n",
       "      <td>0.0</td>\n",
       "      <td>17.700</td>\n",
       "      <td>68.5000</td>\n",
       "      <td>44.4</td>\n",
       "      <td>10.10</td>\n",
       "      <td>24.0</td>\n",
       "    </tr>\n",
       "  </tbody>\n",
       "</table>\n",
       "</div>"
      ],
      "text/plain": [
       "                      energy_100g  proteins_100g  salt_100g  sodium_100g  \\\n",
       "creator                                                                    \n",
       "aeon                     1197.000       28.57000    1.54178     0.607000   \n",
       "agamitsudo                    NaN            NaN        NaN          NaN   \n",
       "aleene                        NaN            NaN        NaN          NaN   \n",
       "allfitnessfactory-de     1588.875       83.45625    1.21158     0.477000   \n",
       "amaurea                  1928.000        5.10000    0.81000     0.318898   \n",
       "\n",
       "                      ingredients_from_palm_oil_n  \\\n",
       "creator                                             \n",
       "aeon                                          0.0   \n",
       "agamitsudo                                    0.0   \n",
       "aleene                                        NaN   \n",
       "allfitnessfactory-de                          0.0   \n",
       "amaurea                                       0.0   \n",
       "\n",
       "                      ingredients_that_may_be_from_palm_oil_n  fat_100g  \\\n",
       "creator                                                                   \n",
       "aeon                                                      0.0    17.860   \n",
       "agamitsudo                                                0.0       NaN   \n",
       "aleene                                                    NaN       NaN   \n",
       "allfitnessfactory-de                                      0.0     2.225   \n",
       "amaurea                                                   0.0    17.700   \n",
       "\n",
       "                      carbohydrates_100g  sugars_100g  saturated-fat_100g  \\\n",
       "creator                                                                     \n",
       "aeon                              3.5700          0.0               10.71   \n",
       "agamitsudo                           NaN          NaN                 NaN   \n",
       "aleene                               NaN          NaN                 NaN   \n",
       "allfitnessfactory-de              4.5125          6.0                 NaN   \n",
       "amaurea                          68.5000         44.4               10.10   \n",
       "\n",
       "                      nutrition-score-fr_100g  \n",
       "creator                                        \n",
       "aeon                                     19.0  \n",
       "agamitsudo                                NaN  \n",
       "aleene                                    NaN  \n",
       "allfitnessfactory-de                      NaN  \n",
       "amaurea                                  24.0  "
      ]
     },
     "execution_count": 146,
     "metadata": {},
     "output_type": "execute_result"
    }
   ],
   "source": [
    "food_creator.head()"
   ]
  },
  {
   "cell_type": "code",
   "execution_count": 147,
   "metadata": {},
   "outputs": [
    {
     "data": {
      "text/plain": [
       "(55, 11)"
      ]
     },
     "execution_count": 147,
     "metadata": {},
     "output_type": "execute_result"
    }
   ],
   "source": [
    "food_creator.shape"
   ]
  },
  {
   "cell_type": "markdown",
   "metadata": {},
   "source": [
    "After careful thinking a new grouping has been chosen this time by the creator column. It will be devided by 2 populations some of them seem legitimate (like the data is from an organization or an app), other seem just like the names of common users, we will brand them as nicknames. I agree that this is not very scientific but it will be used for testing hypothesis based on a smaller then 30 samples, we will use the t test, so view the code more for demonstration purposes then from extraction useful information. There is a lot of subjective bias into the process, but don't make such a fuss from it there all all kind of idiotic scientific articles published even published by journal like this one : https://www.sciencealert.com/predatory-journal-fell-for-hoax-paper-about-uk-politician-s-bum-wiping"
   ]
  },
  {
   "cell_type": "code",
   "execution_count": 154,
   "metadata": {
    "collapsed": true
   },
   "outputs": [],
   "source": [
    "legitemate = food_creator.loc[['openfoodfacts-contributors', 'usda-ndb-import','date-limite-app', 'canieatthis-app',\n",
    "                              'allfitnessfactory-de','syefulislam', 'recipekeepapp', 'openfood-ch-import',\n",
    "                              'foodorigins']]"
   ]
  },
  {
   "cell_type": "code",
   "execution_count": 155,
   "metadata": {
    "collapsed": true
   },
   "outputs": [],
   "source": [
    "nicknames = food_creator.loc[['chris13', 'tacinte', 'teolemon', 'b7', 'bcatelin', 'sigoise', 'tacite', 'kiliweb',\n",
    "                              'sebleouf','agamitsudo', 'twoflower', 'andre','javichu', 'jeanbono',\n",
    "                              'beniben', 'kyzh', 'malikele',\n",
    "                               'gildubs', 'lbhlbh', 'wengong27514', 'brent', 'ysculo', 'chandon',\n",
    "                               'stephane', 'jm0804', 'woshilapin', 'max4food','aleene', 'rjhunter', 'bdwyer',\n",
    "                              'lilimarti', 'kp757','trevorpetersen','aeon', 'php93', 'toni',\n",
    "                               'jiehong', 'pitajay', 'arig', 'bitnapper','jcnascimento', 'manuc66', 'xmunoz', \n",
    "                              'roblaw', 'amaurea', 'veganeamos']]"
   ]
  },
  {
   "cell_type": "code",
   "execution_count": 156,
   "metadata": {},
   "outputs": [
    {
     "data": {
      "text/plain": [
       "(9, 11)"
      ]
     },
     "execution_count": 156,
     "metadata": {},
     "output_type": "execute_result"
    }
   ],
   "source": [
    "legitemate.shape"
   ]
  },
  {
   "cell_type": "code",
   "execution_count": 157,
   "metadata": {},
   "outputs": [
    {
     "data": {
      "text/plain": [
       "(46, 11)"
      ]
     },
     "execution_count": 157,
     "metadata": {},
     "output_type": "execute_result"
    }
   ],
   "source": [
    "nicknames.shape"
   ]
  },
  {
   "cell_type": "markdown",
   "metadata": {},
   "source": [
    "### Hypothesis Testing\n",
    "The first sample contains just 9 rows, while the second 46. Lets take the salt per 100g to test a hypothesis. We have dropped the NAN values so that they don't get in the way."
   ]
  },
  {
   "cell_type": "code",
   "execution_count": 162,
   "metadata": {},
   "outputs": [
    {
     "name": "stderr",
     "output_type": "stream",
     "text": [
      "C:\\Users\\Stefan\\Anaconda3\\lib\\site-packages\\numpy\\core\\fromnumeric.py:57: FutureWarning: reshape is deprecated and will raise in a subsequent release. Please use .values.reshape(...) instead\n",
      "  return getattr(obj, method)(*args, **kwds)\n"
     ]
    },
    {
     "data": {
      "image/png": "[encoded data removed]",
      "text/plain": [
       "<matplotlib.figure.Figure at 0x16f99ecf9e8>"
      ]
     },
     "metadata": {},
     "output_type": "display_data"
    }
   ],
   "source": [
    "plt.boxplot([legitemate['salt_100g'].dropna(), nicknames['salt_100g'].dropna()], labels = [\"legitemate\", \"nicknames\"])\n",
    "plt.ylabel(\"Salt per 100 grams\")\n",
    "plt.title('Boxplot for legitemate names and nicknames')\n",
    "plt.show()"
   ]
  },
  {
   "cell_type": "markdown",
   "metadata": {},
   "source": [
    "It seems that the nicknames are more symmetrically distributed then the legitemate. Both have 2 large outliers, considering we don't have that many observations we decide that the outliers will stay, now lets move to the t test, for more information about the t test read here: https://towardsdatascience.com/inferential-statistics-series-t-test-using-numpy-2718f8f9bf2f.\n",
    "<br>\n",
    "We formulate the zeroth hypothesis as \n",
    "<br>\n",
    "H0: that there is no statistically significant difference between the mean of the the 2 populations and \n",
    "<br>\n",
    "H1: that there is a statistically significant difference between the mean of the the 2 categories.\n",
    "<br>\n",
    "We take a 0.05 significance value, if the p-value is larger then 0.05 we cannot reject the null hypothesis.\n"
   ]
  },
  {
   "cell_type": "code",
   "execution_count": 165,
   "metadata": {
    "collapsed": true
   },
   "outputs": [],
   "source": [
    "t, p = stats.ttest_ind(legitemate['salt_100g'].dropna(), nicknames['salt_100g'].dropna() , equal_var=False)"
   ]
  },
  {
   "cell_type": "code",
   "execution_count": 166,
   "metadata": {},
   "outputs": [
    {
     "data": {
      "text/plain": [
       "(1.2665620087526213, 0.25247116987644719)"
      ]
     },
     "execution_count": 166,
     "metadata": {},
     "output_type": "execute_result"
    }
   ],
   "source": [
    "t, p"
   ]
  },
  {
   "cell_type": "markdown",
   "metadata": {},
   "source": [
    "At the end we will conclude that the H0 hypothesis is the correct one. This is not 100% true we say that there exist a 5% chance that we are wrong (known as type alpha error also knows as type 1 error), there is also the issue for type beta error (also known as type 2 error). For more information you can check here: https://www.students4bestevidence.net/type-i-and-type-ii-errors/"
   ]
  },
  {
   "cell_type": "markdown",
   "metadata": {},
   "source": [
    "### Conclusion\n",
    "To conclude this dataset is very large and unstructured, it requires a lot of formatting to get something more useful out of it, taking some paths can lead us to nowhere, sometimes we have to start from the beginning. Here it is probably an error we choose to remove so many column for having more then the stated threshold of NAN values. They could have been used for grouping. Finally a t test was used due to the small sample sizes."
   ]
  },
  {
   "cell_type": "markdown",
   "metadata": {},
   "source": [
    "### Further development\n",
    "This dataset need a lot more attention in the future, considering its size several possible paths could be taken. The process is likely going to resemble trial and error, this should be taken under consideration when stating depending on the goal that might shift and the required resources and time."
   ]
  },
  {
   "cell_type": "code",
   "execution_count": null,
   "metadata": {
    "collapsed": true
   },
   "outputs": [],
   "source": []
  }
 ],
 "metadata": {
  "kernelspec": {
   "display_name": "Python 3",
   "language": "python",
   "name": "python3"
  },
  "language_info": {
   "codemirror_mode": {
    "name": "ipython",
    "version": 3
   },
   "file_extension": ".py",
   "mimetype": "text/x-python",
   "name": "python",
   "nbconvert_exporter": "python",
   "pygments_lexer": "ipython3",
   "version": "3.6.3"
  }
 },
 "nbformat": 4,
 "nbformat_minor": 2
}
